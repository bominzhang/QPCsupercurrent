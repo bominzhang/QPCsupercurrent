{
 "cells": [
  {
   "cell_type": "markdown",
   "metadata": {},
   "source": [
    "To start IPython local engines, open a terminal in Jupyter lab and run ```ipcluster start -n 4```"
   ]
  },
  {
   "cell_type": "code",
   "execution_count": 1,
   "metadata": {},
   "outputs": [
    {
     "name": "stdout",
     "output_type": "stream",
     "text": [
      "Connected to local engines\n"
     ]
    }
   ],
   "source": [
    "#import hpc05\n",
    "#client = hpc05.Client(profile='pbs', timeout=60)\n",
    "#print(\"Connected to hpc05\")\n",
    "\n",
    "from ipyparallel import Client\n",
    "client = Client()\n",
    "print(\"Connected to local engines\")"
   ]
  },
  {
   "cell_type": "code",
   "execution_count": 2,
   "metadata": {},
   "outputs": [
    {
     "data": {
      "text/plain": [
       "[0,\n",
       " 1,\n",
       " 2,\n",
       " 3,\n",
       " 4,\n",
       " 5,\n",
       " 6,\n",
       " 7,\n",
       " 8,\n",
       " 9,\n",
       " 10,\n",
       " 11,\n",
       " 12,\n",
       " 13,\n",
       " 14,\n",
       " 15,\n",
       " 16,\n",
       " 17,\n",
       " 18,\n",
       " 19,\n",
       " 20,\n",
       " 21,\n",
       " 22,\n",
       " 23]"
      ]
     },
     "execution_count": 2,
     "metadata": {},
     "output_type": "execute_result"
    }
   ],
   "source": [
    "client.ids"
   ]
  },
  {
   "cell_type": "code",
   "execution_count": 3,
   "metadata": {},
   "outputs": [
    {
     "name": "stdout",
     "output_type": "stream",
     "text": [
      "got unknown result: e22547de-6fb32d155fda6c2cb27b6b19_9\n",
      "Connected to 24 engines.\n"
     ]
    }
   ],
   "source": [
    "dview = client[:]\n",
    "dview.use_dill()\n",
    "lview = client.load_balanced_view()\n",
    "print('Connected to {} engines.'.format(len(dview)))"
   ]
  },
  {
   "cell_type": "code",
   "execution_count": 4,
   "metadata": {},
   "outputs": [
    {
     "data": {
      "text/plain": [
       "\u001b[0;31mOut[0:3]: \u001b[0m'/home/frolovlab/Desktop/QPCsupercurrent'"
      ]
     },
     "metadata": {
      "after": [],
      "completed": "2021-08-08T03:14:17.176737",
      "data": {},
      "engine_id": 0,
      "engine_uuid": "f32fdb59-cbfd4a0b3698613f071eb72b",
      "error": null,
      "execute_input": "import sys, os; os.chdir(\"/home/frolovlab/Desktop/QPCsupercurrent\"); os.getcwd()# %px is a magic command for parallel clusters",
      "execute_result": {
       "data": {
        "text/plain": "'/home/frolovlab/Desktop/QPCsupercurrent'"
       },
       "execution_count": 3,
       "metadata": {}
      },
      "follow": [],
      "msg_id": "e22547de-6fb32d155fda6c2cb27b6b19_25",
      "outputs": [],
      "received": "2021-08-08T03:14:17.178426",
      "started": "2021-08-08T03:14:17.173641",
      "status": "ok",
      "stderr": "",
      "stdout": "",
      "submitted": "2021-08-08T03:14:17.171982"
     },
     "output_type": "display_data"
    },
    {
     "data": {
      "text/plain": [
       "\u001b[0;31mOut[1:3]: \u001b[0m'/home/frolovlab/Desktop/QPCsupercurrent'"
      ]
     },
     "metadata": {
      "after": [],
      "completed": "2021-08-08T03:14:17.178544",
      "data": {},
      "engine_id": 1,
      "engine_uuid": "27a1987f-8dbcb4d1abb0f90a9ce16065",
      "error": null,
      "execute_input": "import sys, os; os.chdir(\"/home/frolovlab/Desktop/QPCsupercurrent\"); os.getcwd()# %px is a magic command for parallel clusters",
      "execute_result": {
       "data": {
        "text/plain": "'/home/frolovlab/Desktop/QPCsupercurrent'"
       },
       "execution_count": 3,
       "metadata": {}
      },
      "follow": [],
      "msg_id": "e22547de-6fb32d155fda6c2cb27b6b19_26",
      "outputs": [],
      "received": "2021-08-08T03:14:17.179867",
      "started": "2021-08-08T03:14:17.175967",
      "status": "ok",
      "stderr": "",
      "stdout": "",
      "submitted": "2021-08-08T03:14:17.172619"
     },
     "output_type": "display_data"
    },
    {
     "data": {
      "text/plain": [
       "\u001b[0;31mOut[2:3]: \u001b[0m'/home/frolovlab/Desktop/QPCsupercurrent'"
      ]
     },
     "metadata": {
      "after": [],
      "completed": "2021-08-08T03:14:17.181310",
      "data": {},
      "engine_id": 2,
      "engine_uuid": "ad75dec7-3da5e95f19d498d9a17421fb",
      "error": null,
      "execute_input": "import sys, os; os.chdir(\"/home/frolovlab/Desktop/QPCsupercurrent\"); os.getcwd()# %px is a magic command for parallel clusters",
      "execute_result": {
       "data": {
        "text/plain": "'/home/frolovlab/Desktop/QPCsupercurrent'"
       },
       "execution_count": 3,
       "metadata": {}
      },
      "follow": [],
      "msg_id": "e22547de-6fb32d155fda6c2cb27b6b19_27",
      "outputs": [],
      "received": "2021-08-08T03:14:17.183238",
      "started": "2021-08-08T03:14:17.177338",
      "status": "ok",
      "stderr": "",
      "stdout": "",
      "submitted": "2021-08-08T03:14:17.172986"
     },
     "output_type": "display_data"
    },
    {
     "data": {
      "text/plain": [
       "\u001b[0;31mOut[3:3]: \u001b[0m'/home/frolovlab/Desktop/QPCsupercurrent'"
      ]
     },
     "metadata": {
      "after": [],
      "completed": "2021-08-08T03:14:17.180150",
      "data": {},
      "engine_id": 3,
      "engine_uuid": "4644547b-9b35520606e6cf04a1b20cda",
      "error": null,
      "execute_input": "import sys, os; os.chdir(\"/home/frolovlab/Desktop/QPCsupercurrent\"); os.getcwd()# %px is a magic command for parallel clusters",
      "execute_result": {
       "data": {
        "text/plain": "'/home/frolovlab/Desktop/QPCsupercurrent'"
       },
       "execution_count": 3,
       "metadata": {}
      },
      "follow": [],
      "msg_id": "e22547de-6fb32d155fda6c2cb27b6b19_28",
      "outputs": [],
      "received": "2021-08-08T03:14:17.181895",
      "started": "2021-08-08T03:14:17.177487",
      "status": "ok",
      "stderr": "",
      "stdout": "",
      "submitted": "2021-08-08T03:14:17.173223"
     },
     "output_type": "display_data"
    },
    {
     "data": {
      "text/plain": [
       "\u001b[0;31mOut[4:3]: \u001b[0m'/home/frolovlab/Desktop/QPCsupercurrent'"
      ]
     },
     "metadata": {
      "after": [],
      "completed": "2021-08-08T03:14:17.183143",
      "data": {},
      "engine_id": 4,
      "engine_uuid": "3f62ca48-1775e291c54a1bc5fd3116fd",
      "error": null,
      "execute_input": "import sys, os; os.chdir(\"/home/frolovlab/Desktop/QPCsupercurrent\"); os.getcwd()# %px is a magic command for parallel clusters",
      "execute_result": {
       "data": {
        "text/plain": "'/home/frolovlab/Desktop/QPCsupercurrent'"
       },
       "execution_count": 3,
       "metadata": {}
      },
      "follow": [],
      "msg_id": "e22547de-6fb32d155fda6c2cb27b6b19_29",
      "outputs": [],
      "received": "2021-08-08T03:14:17.186908",
      "started": "2021-08-08T03:14:17.179227",
      "status": "ok",
      "stderr": "",
      "stdout": "",
      "submitted": "2021-08-08T03:14:17.173334"
     },
     "output_type": "display_data"
    },
    {
     "data": {
      "text/plain": [
       "\u001b[0;31mOut[5:3]: \u001b[0m'/home/frolovlab/Desktop/QPCsupercurrent'"
      ]
     },
     "metadata": {
      "after": [],
      "completed": "2021-08-08T03:14:17.185569",
      "data": {},
      "engine_id": 5,
      "engine_uuid": "2a04b04b-df168ca6b88505014d056188",
      "error": null,
      "execute_input": "import sys, os; os.chdir(\"/home/frolovlab/Desktop/QPCsupercurrent\"); os.getcwd()# %px is a magic command for parallel clusters",
      "execute_result": {
       "data": {
        "text/plain": "'/home/frolovlab/Desktop/QPCsupercurrent'"
       },
       "execution_count": 3,
       "metadata": {}
      },
      "follow": [],
      "msg_id": "e22547de-6fb32d155fda6c2cb27b6b19_30",
      "outputs": [],
      "received": "2021-08-08T03:14:17.192946",
      "started": "2021-08-08T03:14:17.180920",
      "status": "ok",
      "stderr": "",
      "stdout": "",
      "submitted": "2021-08-08T03:14:17.173516"
     },
     "output_type": "display_data"
    },
    {
     "data": {
      "text/plain": [
       "\u001b[0;31mOut[6:3]: \u001b[0m'/home/frolovlab/Desktop/QPCsupercurrent'"
      ]
     },
     "metadata": {
      "after": [],
      "completed": "2021-08-08T03:14:17.185565",
      "data": {},
      "engine_id": 6,
      "engine_uuid": "45d3615e-ddb13f7e7879ceb45c056fae",
      "error": null,
      "execute_input": "import sys, os; os.chdir(\"/home/frolovlab/Desktop/QPCsupercurrent\"); os.getcwd()# %px is a magic command for parallel clusters",
      "execute_result": {
       "data": {
        "text/plain": "'/home/frolovlab/Desktop/QPCsupercurrent'"
       },
       "execution_count": 3,
       "metadata": {}
      },
      "follow": [],
      "msg_id": "e22547de-6fb32d155fda6c2cb27b6b19_31",
      "outputs": [],
      "received": "2021-08-08T03:14:17.191362",
      "started": "2021-08-08T03:14:17.180724",
      "status": "ok",
      "stderr": "",
      "stdout": "",
      "submitted": "2021-08-08T03:14:17.173665"
     },
     "output_type": "display_data"
    },
    {
     "data": {
      "text/plain": [
       "\u001b[0;31mOut[7:3]: \u001b[0m'/home/frolovlab/Desktop/QPCsupercurrent'"
      ]
     },
     "metadata": {
      "after": [],
      "completed": "2021-08-08T03:14:17.189384",
      "data": {},
      "engine_id": 7,
      "engine_uuid": "67e9d540-99487a5f86b9bedca31d1c01",
      "error": null,
      "execute_input": "import sys, os; os.chdir(\"/home/frolovlab/Desktop/QPCsupercurrent\"); os.getcwd()# %px is a magic command for parallel clusters",
      "execute_result": {
       "data": {
        "text/plain": "'/home/frolovlab/Desktop/QPCsupercurrent'"
       },
       "execution_count": 3,
       "metadata": {}
      },
      "follow": [],
      "msg_id": "e22547de-6fb32d155fda6c2cb27b6b19_32",
      "outputs": [],
      "received": "2021-08-08T03:14:17.197154",
      "started": "2021-08-08T03:14:17.186317",
      "status": "ok",
      "stderr": "",
      "stdout": "",
      "submitted": "2021-08-08T03:14:17.173830"
     },
     "output_type": "display_data"
    },
    {
     "data": {
      "text/plain": [
       "\u001b[0;31mOut[8:3]: \u001b[0m'/home/frolovlab/Desktop/QPCsupercurrent'"
      ]
     },
     "metadata": {
      "after": [],
      "completed": "2021-08-08T03:14:17.183721",
      "data": {},
      "engine_id": 8,
      "engine_uuid": "fe8ee579-3d07caeff3011dd6cde5d30c",
      "error": null,
      "execute_input": "import sys, os; os.chdir(\"/home/frolovlab/Desktop/QPCsupercurrent\"); os.getcwd()# %px is a magic command for parallel clusters",
      "execute_result": {
       "data": {
        "text/plain": "'/home/frolovlab/Desktop/QPCsupercurrent'"
       },
       "execution_count": 3,
       "metadata": {}
      },
      "follow": [],
      "msg_id": "e22547de-6fb32d155fda6c2cb27b6b19_33",
      "outputs": [],
      "received": "2021-08-08T03:14:17.187728",
      "started": "2021-08-08T03:14:17.180526",
      "status": "ok",
      "stderr": "",
      "stdout": "",
      "submitted": "2021-08-08T03:14:17.173942"
     },
     "output_type": "display_data"
    },
    {
     "data": {
      "text/plain": [
       "\u001b[0;31mOut[9:3]: \u001b[0m'/home/frolovlab/Desktop/QPCsupercurrent'"
      ]
     },
     "metadata": {
      "after": [],
      "completed": "2021-08-08T03:14:17.183060",
      "data": {},
      "engine_id": 9,
      "engine_uuid": "e543dc1b-b389770d74d339454ef68223",
      "error": null,
      "execute_input": "import sys, os; os.chdir(\"/home/frolovlab/Desktop/QPCsupercurrent\"); os.getcwd()# %px is a magic command for parallel clusters",
      "execute_result": {
       "data": {
        "text/plain": "'/home/frolovlab/Desktop/QPCsupercurrent'"
       },
       "execution_count": 3,
       "metadata": {}
      },
      "follow": [],
      "msg_id": "e22547de-6fb32d155fda6c2cb27b6b19_34",
      "outputs": [],
      "received": "2021-08-08T03:14:17.184665",
      "started": "2021-08-08T03:14:17.180715",
      "status": "ok",
      "stderr": "",
      "stdout": "",
      "submitted": "2021-08-08T03:14:17.174050"
     },
     "output_type": "display_data"
    },
    {
     "data": {
      "text/plain": [
       "\u001b[0;31mOut[10:3]: \u001b[0m'/home/frolovlab/Desktop/QPCsupercurrent'"
      ]
     },
     "metadata": {
      "after": [],
      "completed": "2021-08-08T03:14:17.185643",
      "data": {},
      "engine_id": 10,
      "engine_uuid": "efeaf526-1aa579c03933ce8eb1d85c76",
      "error": null,
      "execute_input": "import sys, os; os.chdir(\"/home/frolovlab/Desktop/QPCsupercurrent\"); os.getcwd()# %px is a magic command for parallel clusters",
      "execute_result": {
       "data": {
        "text/plain": "'/home/frolovlab/Desktop/QPCsupercurrent'"
       },
       "execution_count": 3,
       "metadata": {}
      },
      "follow": [],
      "msg_id": "e22547de-6fb32d155fda6c2cb27b6b19_35",
      "outputs": [],
      "received": "2021-08-08T03:14:17.192417",
      "started": "2021-08-08T03:14:17.181001",
      "status": "ok",
      "stderr": "",
      "stdout": "",
      "submitted": "2021-08-08T03:14:17.174213"
     },
     "output_type": "display_data"
    },
    {
     "data": {
      "text/plain": [
       "\u001b[0;31mOut[11:3]: \u001b[0m'/home/frolovlab/Desktop/QPCsupercurrent'"
      ]
     },
     "metadata": {
      "after": [],
      "completed": "2021-08-08T03:14:17.189595",
      "data": {},
      "engine_id": 11,
      "engine_uuid": "b5e7127b-d368535eacdedafb829f8ca4",
      "error": null,
      "execute_input": "import sys, os; os.chdir(\"/home/frolovlab/Desktop/QPCsupercurrent\"); os.getcwd()# %px is a magic command for parallel clusters",
      "execute_result": {
       "data": {
        "text/plain": "'/home/frolovlab/Desktop/QPCsupercurrent'"
       },
       "execution_count": 3,
       "metadata": {}
      },
      "follow": [],
      "msg_id": "e22547de-6fb32d155fda6c2cb27b6b19_36",
      "outputs": [],
      "received": "2021-08-08T03:14:17.197663",
      "started": "2021-08-08T03:14:17.186709",
      "status": "ok",
      "stderr": "",
      "stdout": "",
      "submitted": "2021-08-08T03:14:17.174319"
     },
     "output_type": "display_data"
    },
    {
     "data": {
      "text/plain": [
       "\u001b[0;31mOut[12:3]: \u001b[0m'/home/frolovlab/Desktop/QPCsupercurrent'"
      ]
     },
     "metadata": {
      "after": [],
      "completed": "2021-08-08T03:14:17.184992",
      "data": {},
      "engine_id": 12,
      "engine_uuid": "c6eba953-36bcab9f685377aa0e2236d8",
      "error": null,
      "execute_input": "import sys, os; os.chdir(\"/home/frolovlab/Desktop/QPCsupercurrent\"); os.getcwd()# %px is a magic command for parallel clusters",
      "execute_result": {
       "data": {
        "text/plain": "'/home/frolovlab/Desktop/QPCsupercurrent'"
       },
       "execution_count": 3,
       "metadata": {}
      },
      "follow": [],
      "msg_id": "e22547de-6fb32d155fda6c2cb27b6b19_37",
      "outputs": [],
      "received": "2021-08-08T03:14:17.190842",
      "started": "2021-08-08T03:14:17.181090",
      "status": "ok",
      "stderr": "",
      "stdout": "",
      "submitted": "2021-08-08T03:14:17.174427"
     },
     "output_type": "display_data"
    },
    {
     "data": {
      "text/plain": [
       "\u001b[0;31mOut[13:3]: \u001b[0m'/home/frolovlab/Desktop/QPCsupercurrent'"
      ]
     },
     "metadata": {
      "after": [],
      "completed": "2021-08-08T03:14:17.188908",
      "data": {},
      "engine_id": 13,
      "engine_uuid": "f51c24e8-60a7fe44ba041a5a47a39afb",
      "error": null,
      "execute_input": "import sys, os; os.chdir(\"/home/frolovlab/Desktop/QPCsupercurrent\"); os.getcwd()# %px is a magic command for parallel clusters",
      "execute_result": {
       "data": {
        "text/plain": "'/home/frolovlab/Desktop/QPCsupercurrent'"
       },
       "execution_count": 3,
       "metadata": {}
      },
      "follow": [],
      "msg_id": "e22547de-6fb32d155fda6c2cb27b6b19_38",
      "outputs": [],
      "received": "2021-08-08T03:14:17.196615",
      "started": "2021-08-08T03:14:17.185680",
      "status": "ok",
      "stderr": "",
      "stdout": "",
      "submitted": "2021-08-08T03:14:17.174533"
     },
     "output_type": "display_data"
    },
    {
     "data": {
      "text/plain": [
       "\u001b[0;31mOut[14:3]: \u001b[0m'/home/frolovlab/Desktop/QPCsupercurrent'"
      ]
     },
     "metadata": {
      "after": [],
      "completed": "2021-08-08T03:14:17.184392",
      "data": {},
      "engine_id": 14,
      "engine_uuid": "ff85fc5e-a338abd4b764bd062418f40b",
      "error": null,
      "execute_input": "import sys, os; os.chdir(\"/home/frolovlab/Desktop/QPCsupercurrent\"); os.getcwd()# %px is a magic command for parallel clusters",
      "execute_result": {
       "data": {
        "text/plain": "'/home/frolovlab/Desktop/QPCsupercurrent'"
       },
       "execution_count": 3,
       "metadata": {}
      },
      "follow": [],
      "msg_id": "e22547de-6fb32d155fda6c2cb27b6b19_39",
      "outputs": [],
      "received": "2021-08-08T03:14:17.188528",
      "started": "2021-08-08T03:14:17.180784",
      "status": "ok",
      "stderr": "",
      "stdout": "",
      "submitted": "2021-08-08T03:14:17.174643"
     },
     "output_type": "display_data"
    },
    {
     "data": {
      "text/plain": [
       "\u001b[0;31mOut[15:3]: \u001b[0m'/home/frolovlab/Desktop/QPCsupercurrent'"
      ]
     },
     "metadata": {
      "after": [],
      "completed": "2021-08-08T03:14:17.187410",
      "data": {},
      "engine_id": 15,
      "engine_uuid": "5478f056-3b039084a255f1082b0adb72",
      "error": null,
      "execute_input": "import sys, os; os.chdir(\"/home/frolovlab/Desktop/QPCsupercurrent\"); os.getcwd()# %px is a magic command for parallel clusters",
      "execute_result": {
       "data": {
        "text/plain": "'/home/frolovlab/Desktop/QPCsupercurrent'"
       },
       "execution_count": 3,
       "metadata": {}
      },
      "follow": [],
      "msg_id": "e22547de-6fb32d155fda6c2cb27b6b19_40",
      "outputs": [],
      "received": "2021-08-08T03:14:17.195059",
      "started": "2021-08-08T03:14:17.183712",
      "status": "ok",
      "stderr": "",
      "stdout": "",
      "submitted": "2021-08-08T03:14:17.174751"
     },
     "output_type": "display_data"
    },
    {
     "data": {
      "text/plain": [
       "\u001b[0;31mOut[16:3]: \u001b[0m'/home/frolovlab/Desktop/QPCsupercurrent'"
      ]
     },
     "metadata": {
      "after": [],
      "completed": "2021-08-08T03:14:17.185889",
      "data": {},
      "engine_id": 16,
      "engine_uuid": "edcab269-481cf0e58ad76435a3d2270e",
      "error": null,
      "execute_input": "import sys, os; os.chdir(\"/home/frolovlab/Desktop/QPCsupercurrent\"); os.getcwd()# %px is a magic command for parallel clusters",
      "execute_result": {
       "data": {
        "text/plain": "'/home/frolovlab/Desktop/QPCsupercurrent'"
       },
       "execution_count": 3,
       "metadata": {}
      },
      "follow": [],
      "msg_id": "e22547de-6fb32d155fda6c2cb27b6b19_41",
      "outputs": [],
      "received": "2021-08-08T03:14:17.194010",
      "started": "2021-08-08T03:14:17.183466",
      "status": "ok",
      "stderr": "",
      "stdout": "",
      "submitted": "2021-08-08T03:14:17.174880"
     },
     "output_type": "display_data"
    },
    {
     "data": {
      "text/plain": [
       "\u001b[0;31mOut[17:3]: \u001b[0m'/home/frolovlab/Desktop/QPCsupercurrent'"
      ]
     },
     "metadata": {
      "after": [],
      "completed": "2021-08-08T03:14:17.189232",
      "data": {},
      "engine_id": 17,
      "engine_uuid": "a201fc25-499647a6aeea42eccd610b8e",
      "error": null,
      "execute_input": "import sys, os; os.chdir(\"/home/frolovlab/Desktop/QPCsupercurrent\"); os.getcwd()# %px is a magic command for parallel clusters",
      "execute_result": {
       "data": {
        "text/plain": "'/home/frolovlab/Desktop/QPCsupercurrent'"
       },
       "execution_count": 3,
       "metadata": {}
      },
      "follow": [],
      "msg_id": "e22547de-6fb32d155fda6c2cb27b6b19_42",
      "outputs": [],
      "received": "2021-08-08T03:14:17.196094",
      "started": "2021-08-08T03:14:17.186722",
      "status": "ok",
      "stderr": "",
      "stdout": "",
      "submitted": "2021-08-08T03:14:17.175797"
     },
     "output_type": "display_data"
    },
    {
     "data": {
      "text/plain": [
       "\u001b[0;31mOut[18:3]: \u001b[0m'/home/frolovlab/Desktop/QPCsupercurrent'"
      ]
     },
     "metadata": {
      "after": [],
      "completed": "2021-08-08T03:14:17.185335",
      "data": {},
      "engine_id": 18,
      "engine_uuid": "c854ad8e-c18048109afae9c40b782f6d",
      "error": null,
      "execute_input": "import sys, os; os.chdir(\"/home/frolovlab/Desktop/QPCsupercurrent\"); os.getcwd()# %px is a magic command for parallel clusters",
      "execute_result": {
       "data": {
        "text/plain": "'/home/frolovlab/Desktop/QPCsupercurrent'"
       },
       "execution_count": 3,
       "metadata": {}
      },
      "follow": [],
      "msg_id": "e22547de-6fb32d155fda6c2cb27b6b19_43",
      "outputs": [],
      "received": "2021-08-08T03:14:17.191903",
      "started": "2021-08-08T03:14:17.180881",
      "status": "ok",
      "stderr": "",
      "stdout": "",
      "submitted": "2021-08-08T03:14:17.175978"
     },
     "output_type": "display_data"
    },
    {
     "data": {
      "text/plain": [
       "\u001b[0;31mOut[19:3]: \u001b[0m'/home/frolovlab/Desktop/QPCsupercurrent'"
      ]
     },
     "metadata": {
      "after": [],
      "completed": "2021-08-08T03:14:17.186021",
      "data": {},
      "engine_id": 19,
      "engine_uuid": "a5cb7c95-99de9f56fb1f107a39712264",
      "error": null,
      "execute_input": "import sys, os; os.chdir(\"/home/frolovlab/Desktop/QPCsupercurrent\"); os.getcwd()# %px is a magic command for parallel clusters",
      "execute_result": {
       "data": {
        "text/plain": "'/home/frolovlab/Desktop/QPCsupercurrent'"
       },
       "execution_count": 3,
       "metadata": {}
      },
      "follow": [],
      "msg_id": "e22547de-6fb32d155fda6c2cb27b6b19_44",
      "outputs": [],
      "received": "2021-08-08T03:14:17.193472",
      "started": "2021-08-08T03:14:17.181174",
      "status": "ok",
      "stderr": "",
      "stdout": "",
      "submitted": "2021-08-08T03:14:17.176097"
     },
     "output_type": "display_data"
    },
    {
     "data": {
      "text/plain": [
       "\u001b[0;31mOut[20:3]: \u001b[0m'/home/frolovlab/Desktop/QPCsupercurrent'"
      ]
     },
     "metadata": {
      "after": [],
      "completed": "2021-08-08T03:14:17.188256",
      "data": {},
      "engine_id": 20,
      "engine_uuid": "44dbc5be-b1c2f90959ee1cdb3b7865f1",
      "error": null,
      "execute_input": "import sys, os; os.chdir(\"/home/frolovlab/Desktop/QPCsupercurrent\"); os.getcwd()# %px is a magic command for parallel clusters",
      "execute_result": {
       "data": {
        "text/plain": "'/home/frolovlab/Desktop/QPCsupercurrent'"
       },
       "execution_count": 3,
       "metadata": {}
      },
      "follow": [],
      "msg_id": "e22547de-6fb32d155fda6c2cb27b6b19_45",
      "outputs": [],
      "received": "2021-08-08T03:14:17.195576",
      "started": "2021-08-08T03:14:17.181456",
      "status": "ok",
      "stderr": "",
      "stdout": "",
      "submitted": "2021-08-08T03:14:17.176206"
     },
     "output_type": "display_data"
    },
    {
     "data": {
      "text/plain": [
       "\u001b[0;31mOut[21:3]: \u001b[0m'/home/frolovlab/Desktop/QPCsupercurrent'"
      ]
     },
     "metadata": {
      "after": [],
      "completed": "2021-08-08T03:14:17.186446",
      "data": {},
      "engine_id": 21,
      "engine_uuid": "0975a626-a8edfaf5298a0ad0b81ad4a9",
      "error": null,
      "execute_input": "import sys, os; os.chdir(\"/home/frolovlab/Desktop/QPCsupercurrent\"); os.getcwd()# %px is a magic command for parallel clusters",
      "execute_result": {
       "data": {
        "text/plain": "'/home/frolovlab/Desktop/QPCsupercurrent'"
       },
       "execution_count": 3,
       "metadata": {}
      },
      "follow": [],
      "msg_id": "e22547de-6fb32d155fda6c2cb27b6b19_46",
      "outputs": [],
      "received": "2021-08-08T03:14:17.194538",
      "started": "2021-08-08T03:14:17.181462",
      "status": "ok",
      "stderr": "",
      "stdout": "",
      "submitted": "2021-08-08T03:14:17.176384"
     },
     "output_type": "display_data"
    },
    {
     "data": {
      "text/plain": [
       "\u001b[0;31mOut[22:3]: \u001b[0m'/home/frolovlab/Desktop/QPCsupercurrent'"
      ]
     },
     "metadata": {
      "after": [],
      "completed": "2021-08-08T03:14:17.184698",
      "data": {},
      "engine_id": 22,
      "engine_uuid": "268743e9-89d28573eba8da1f7d0fdae0",
      "error": null,
      "execute_input": "import sys, os; os.chdir(\"/home/frolovlab/Desktop/QPCsupercurrent\"); os.getcwd()# %px is a magic command for parallel clusters",
      "execute_result": {
       "data": {
        "text/plain": "'/home/frolovlab/Desktop/QPCsupercurrent'"
       },
       "execution_count": 3,
       "metadata": {}
      },
      "follow": [],
      "msg_id": "e22547de-6fb32d155fda6c2cb27b6b19_47",
      "outputs": [],
      "received": "2021-08-08T03:14:17.189326",
      "started": "2021-08-08T03:14:17.181309",
      "status": "ok",
      "stderr": "",
      "stdout": "",
      "submitted": "2021-08-08T03:14:17.176577"
     },
     "output_type": "display_data"
    },
    {
     "data": {
      "text/plain": [
       "\u001b[0;31mOut[23:3]: \u001b[0m'/home/frolovlab/Desktop/QPCsupercurrent'"
      ]
     },
     "metadata": {
      "after": [],
      "completed": "2021-08-08T03:14:17.184921",
      "data": {},
      "engine_id": 23,
      "engine_uuid": "68eb896c-2ae4aff46142aacb39a963ee",
      "error": null,
      "execute_input": "import sys, os; os.chdir(\"/home/frolovlab/Desktop/QPCsupercurrent\"); os.getcwd()# %px is a magic command for parallel clusters",
      "execute_result": {
       "data": {
        "text/plain": "'/home/frolovlab/Desktop/QPCsupercurrent'"
       },
       "execution_count": 3,
       "metadata": {}
      },
      "follow": [],
      "msg_id": "e22547de-6fb32d155fda6c2cb27b6b19_48",
      "outputs": [],
      "received": "2021-08-08T03:14:17.190186",
      "started": "2021-08-08T03:14:17.181283",
      "status": "ok",
      "stderr": "",
      "stdout": "",
      "submitted": "2021-08-08T03:14:17.176735"
     },
     "output_type": "display_data"
    }
   ],
   "source": [
    "# set the working directory of clusters to the same folder as this notebook. \n",
    "import os\n",
    "wd='\"'+os.getcwd()+'\"'\n",
    "%px import sys, os; os.chdir($wd); os.getcwd()# %px is a magic command for parallel clusters"
   ]
  },
  {
   "cell_type": "code",
   "execution_count": 5,
   "metadata": {},
   "outputs": [
    {
     "data": {
      "text/html": [
       "\n",
       "<script src=\"https://code.jquery.com/ui/1.10.4/jquery-ui.min.js\" type=\"text/javascript\"></script>\n",
       "<script type=\"text/javascript\">function HoloViewsWidget(){\n",
       "}\n",
       "\n",
       "HoloViewsWidget.comms = {};\n",
       "HoloViewsWidget.comm_state = {};\n",
       "\n",
       "HoloViewsWidget.prototype.init_slider = function(init_val){\n",
       "\tif(this.load_json) {\n",
       "\t\tthis.from_json()\n",
       "\t} else {\n",
       "\t\tthis.update_cache();\n",
       "\t}\n",
       "}\n",
       "\n",
       "HoloViewsWidget.prototype.populate_cache = function(idx){\n",
       "    this.cache[idx].html(this.frames[idx]);\n",
       "    if (this.embed) {\n",
       "        delete this.frames[idx];\n",
       "    }\n",
       "}\n",
       "\n",
       "HoloViewsWidget.prototype.process_error = function(msg){\n",
       "\n",
       "}\n",
       "\n",
       "HoloViewsWidget.prototype.from_json = function() {\n",
       "\tvar data_url = this.json_path + this.id + '.json';\n",
       "\t$.getJSON(data_url, $.proxy(function(json_data) {\n",
       "\t\tthis.frames = json_data;\n",
       "\t\tthis.update_cache();\n",
       "\t\tthis.update(0);\n",
       "\t}, this));\n",
       "}\n",
       "\n",
       "HoloViewsWidget.prototype.dynamic_update = function(current){\n",
       "\tif (current === undefined) {\n",
       "\t\treturn\n",
       "\t}\n",
       "\tif(this.dynamic) {\n",
       "\t\tcurrent = JSON.stringify(current);\n",
       "\t}\n",
       "\tfunction callback(initialized, msg){\n",
       "\t\t/* This callback receives data from Python as a string\n",
       "\t\t   in order to parse it correctly quotes are sliced off*/\n",
       "\t\tif (msg.content.ename != undefined) {\n",
       "\t\t\tthis.process_error(msg);\n",
       "\t\t}\n",
       "\t\tif (msg.msg_type != \"execute_result\") {\n",
       "\t\t\tconsole.log(\"Warning: HoloViews callback returned unexpected data for key: (\", current, \") with the following content:\", msg.content)\n",
       "\t\t\tthis.time = undefined;\n",
       "\t\t\tthis.wait = false;\n",
       "\t\t\treturn\n",
       "\t\t}\n",
       "\t\tthis.timed = (Date.now() - this.time) * 1.1;\n",
       "\t\tif (msg.msg_type == \"execute_result\") {\n",
       "\t\t\tif (msg.content.data['text/plain'].includes('Complete')) {\n",
       "\t\t\t\tthis.wait = false;\n",
       "\t\t\t\tif (this.queue.length > 0) {\n",
       "\t\t\t\t\tthis.time = Date.now();\n",
       "\t\t\t\t\tthis.dynamic_update(this.queue[this.queue.length-1]);\n",
       "\t\t\t\t\tthis.queue = [];\n",
       "\t\t\t\t}\n",
       "\t\t\t\treturn\n",
       "\t\t\t}\n",
       "\t\t}\n",
       "\t}\n",
       "\tthis.current = current;\n",
       "\tif ((window.Jupyter !== undefined) && (Jupyter.notebook.kernel != null)) {\n",
       "\t\tvar kernel = Jupyter.notebook.kernel;\n",
       "\t\tcallbacks = {iopub: {output: $.proxy(callback, this, this.initialized)}};\n",
       "\t\tvar cmd = \"holoviews.plotting.widgets.NdWidget.widgets['\" + this.id + \"'].update(\" + current + \")\";\n",
       "\t\tkernel.execute(\"import holoviews;\" + cmd, callbacks, {silent : false});\n",
       "\t}\n",
       "}\n",
       "\n",
       "HoloViewsWidget.prototype.update_cache = function(force){\n",
       "    var frame_len = Object.keys(this.frames).length;\n",
       "    for (var i=0; i<frame_len; i++) {\n",
       "        if(!this.load_json || this.dynamic)  {\n",
       "            frame = Object.keys(this.frames)[i];\n",
       "        } else {\n",
       "            frame = i;\n",
       "        }\n",
       "        if(!(frame in this.cache) || force) {\n",
       "\t\t\tif ((frame in this.cache) && force) { this.cache[frame].remove() }\n",
       "\t\t\tthis.cache[frame] = $('<div />').appendTo(\"#\"+\"_anim_img\"+this.id).hide();\n",
       "\t\t\tvar cache_id = \"_anim_img\"+this.id+\"_\"+frame;\n",
       "\t\t\tthis.cache[frame].attr(\"id\", cache_id);\n",
       "\t\t\tthis.populate_cache(frame);\n",
       "        }\n",
       "    }\n",
       "}\n",
       "\n",
       "HoloViewsWidget.prototype.update = function(current){\n",
       "    if(current in this.cache) {\n",
       "        $.each(this.cache, function(index, value) {\n",
       "            value.hide();\n",
       "        });\n",
       "        this.cache[current].show();\n",
       "\t\tthis.wait = false;\n",
       "    }\n",
       "}\n",
       "\n",
       "HoloViewsWidget.prototype.init_comms = function() {\n",
       "\tif ((window.Jupyter !== undefined) && (Jupyter.notebook.kernel !== undefined)) {\n",
       "\t\tvar widget = this;\n",
       "\t\tcomm_manager = Jupyter.notebook.kernel.comm_manager;\n",
       "        comm_manager.register_target(this.id, function (comm) {\n",
       "\t\t\tcomm.on_msg(function (msg) { widget.process_msg(msg) });\n",
       "\t\t});\n",
       "\t}\n",
       "}\n",
       "\n",
       "HoloViewsWidget.prototype.process_msg = function(msg) {\n",
       "}\n",
       "\n",
       "function SelectionWidget(frames, id, slider_ids, keyMap, dim_vals, notFound, load_json, mode, cached, json_path, dynamic){\n",
       "    this.frames = frames;\n",
       "    this.id = id;\n",
       "    this.slider_ids = slider_ids;\n",
       "    this.keyMap = keyMap\n",
       "    this.current_frame = 0;\n",
       "    this.current_vals = dim_vals;\n",
       "    this.load_json = load_json;\n",
       "    this.mode = mode;\n",
       "    this.notFound = notFound;\n",
       "    this.cached = cached;\n",
       "    this.dynamic = dynamic;\n",
       "    this.cache = {};\n",
       "\tthis.json_path = json_path;\n",
       "    this.init_slider(this.current_vals[0]);\n",
       "\tthis.queue = [];\n",
       "\tthis.wait = false;\n",
       "\tif (!this.cached || this.dynamic) {\n",
       "\t\tthis.init_comms()\n",
       "\t}\n",
       "}\n",
       "\n",
       "SelectionWidget.prototype = new HoloViewsWidget;\n",
       "\n",
       "\n",
       "SelectionWidget.prototype.get_key = function(current_vals) {\n",
       "\tvar key = \"(\";\n",
       "    for (var i=0; i<this.slider_ids.length; i++)\n",
       "    {\n",
       "        val = this.current_vals[i];\n",
       "        if (!(typeof val === 'string')) {\n",
       "            if (val % 1 === 0) { val = val.toFixed(1); }\n",
       "            else { val = val.toFixed(10); val = val.slice(0, val.length-1);}\n",
       "        }\n",
       "        key += \"'\" + val + \"'\";\n",
       "        if(i != this.slider_ids.length-1) { key += ', ';}\n",
       "        else if(this.slider_ids.length == 1) { key += ',';}\n",
       "    }\n",
       "    key += \")\";\n",
       "\treturn this.keyMap[key];\n",
       "}\n",
       "\n",
       "SelectionWidget.prototype.set_frame = function(dim_val, dim_idx){\n",
       "\tthis.current_vals[dim_idx] = dim_val;\n",
       "    var current = this.get_key(this.current_vals);\n",
       "    if(current === undefined && !this.dynamic) {\n",
       "        return\n",
       "    }\n",
       "\tif (this.dynamic || !this.cached) {\n",
       "\t\tif (this.time === undefined) {\n",
       "\t\t\t// Do nothing the first time\n",
       "\t\t} else if ((this.timed === undefined) || ((this.time + this.timed) > Date.now())) {\n",
       "\t\t\tvar key = this.current_vals;\n",
       "\t\t\tif (!this.dynamic) {\n",
       "\t\t\t\tkey = this.get_key(key);\n",
       "\t\t\t}\n",
       "\t\t\tthis.queue.push(key);\n",
       "\t\t\treturn\n",
       "\t\t}\n",
       "\t}\n",
       "\tthis.queue = [];\n",
       "\tthis.time = Date.now();\n",
       "\tthis.current_frame = current;\n",
       "    if(this.dynamic) {\n",
       "        this.dynamic_update(this.current_vals)\n",
       "    } else if(this.cached) {\n",
       "        this.update(current)\n",
       "    } else {\n",
       "        this.dynamic_update(current)\n",
       "    }\n",
       "}\n",
       "\n",
       "\n",
       "/* Define the ScrubberWidget class */\n",
       "function ScrubberWidget(frames, num_frames, id, interval, load_json, mode, cached, json_path, dynamic){\n",
       "    this.slider_id = \"_anim_slider\" + id;\n",
       "    this.loop_select_id = \"_anim_loop_select\" + id;\n",
       "    this.id = id;\n",
       "    this.interval = interval;\n",
       "    this.current_frame = 0;\n",
       "    this.direction = 0;\n",
       "    this.dynamic = dynamic;\n",
       "    this.timer = null;\n",
       "    this.load_json = load_json;\n",
       "    this.mode = mode;\n",
       "    this.cached = cached;\n",
       "    this.frames = frames;\n",
       "    this.cache = {};\n",
       "    this.length = num_frames;\n",
       "\tthis.json_path = json_path;\n",
       "    document.getElementById(this.slider_id).max = this.length - 1;\n",
       "    this.init_slider(0);\n",
       "\tthis.wait = false;\n",
       "\tthis.queue = [];\n",
       "\tif (!this.cached || this.dynamic) {\n",
       "\t\tthis.init_comms()\n",
       "\t}\n",
       "}\n",
       "\n",
       "ScrubberWidget.prototype = new HoloViewsWidget;\n",
       "\n",
       "ScrubberWidget.prototype.set_frame = function(frame){\n",
       "\tthis.current_frame = frame;\n",
       "\twidget = document.getElementById(this.slider_id);\n",
       "    if (widget === null) {\n",
       "        this.pause_animation();\n",
       "        return\n",
       "    }\n",
       "    widget.value = this.current_frame;\n",
       "    if(this.cached) {\n",
       "        this.update(frame)\n",
       "    } else {\n",
       "        this.dynamic_update(frame)\n",
       "    }\n",
       "}\n",
       "\n",
       "\n",
       "ScrubberWidget.prototype.process_error = function(msg){\n",
       "\tif (msg.content.ename === 'StopIteration') {\n",
       "\t\tthis.pause_animation();\n",
       "\t\tthis.stopped = true;\n",
       "\t\tvar keys = Object.keys(this.frames)\n",
       "\t\tthis.length = keys.length;\n",
       "\t\tdocument.getElementById(this.slider_id).max = this.length-1;\n",
       "\t\tdocument.getElementById(this.slider_id).value = this.length-1;\n",
       "\t\tthis.current_frame = this.length-1;\n",
       "\t}\n",
       "}\n",
       "\n",
       "\n",
       "ScrubberWidget.prototype.get_loop_state = function(){\n",
       "    var button_group = document[this.loop_select_id].state;\n",
       "    for (var i = 0; i < button_group.length; i++) {\n",
       "        var button = button_group[i];\n",
       "        if (button.checked) {\n",
       "            return button.value;\n",
       "        }\n",
       "    }\n",
       "    return undefined;\n",
       "}\n",
       "\n",
       "\n",
       "ScrubberWidget.prototype.next_frame = function() {\n",
       "\tif (this.dynamic || !this.cached) {\n",
       "\t\tif (this.wait) {\n",
       "\t\t\treturn\n",
       "\t\t}\n",
       "\t\tthis.wait = true;\n",
       "\t}\n",
       "\tif (this.dynamic && this.current_frame + 1 >= this.length) {\n",
       "\t\tthis.length += 1;\n",
       "        document.getElementById(this.slider_id).max = this.length-1;\n",
       "\t}\n",
       "    this.set_frame(Math.min(this.length - 1, this.current_frame + 1));\n",
       "}\n",
       "\n",
       "ScrubberWidget.prototype.previous_frame = function() {\n",
       "    this.set_frame(Math.max(0, this.current_frame - 1));\n",
       "}\n",
       "\n",
       "ScrubberWidget.prototype.first_frame = function() {\n",
       "    this.set_frame(0);\n",
       "}\n",
       "\n",
       "ScrubberWidget.prototype.last_frame = function() {\n",
       "    this.set_frame(this.length - 1);\n",
       "}\n",
       "\n",
       "ScrubberWidget.prototype.slower = function() {\n",
       "    this.interval /= 0.7;\n",
       "    if(this.direction > 0){this.play_animation();}\n",
       "    else if(this.direction < 0){this.reverse_animation();}\n",
       "}\n",
       "\n",
       "ScrubberWidget.prototype.faster = function() {\n",
       "    this.interval *= 0.7;\n",
       "    if(this.direction > 0){this.play_animation();}\n",
       "    else if(this.direction < 0){this.reverse_animation();}\n",
       "}\n",
       "\n",
       "ScrubberWidget.prototype.anim_step_forward = function() {\n",
       "    if(this.current_frame < this.length || (this.dynamic && !this.stopped)){\n",
       "        this.next_frame();\n",
       "    }else{\n",
       "        var loop_state = this.get_loop_state();\n",
       "        if(loop_state == \"loop\"){\n",
       "            this.first_frame();\n",
       "        }else if(loop_state == \"reflect\"){\n",
       "            this.last_frame();\n",
       "            this.reverse_animation();\n",
       "        }else{\n",
       "            this.pause_animation();\n",
       "            this.last_frame();\n",
       "        }\n",
       "    }\n",
       "}\n",
       "\n",
       "ScrubberWidget.prototype.anim_step_reverse = function() {\n",
       "    this.current_frame -= 1;\n",
       "    if(this.current_frame >= 0){\n",
       "        this.set_frame(this.current_frame);\n",
       "    } else {\n",
       "        var loop_state = this.get_loop_state();\n",
       "        if(loop_state == \"loop\"){\n",
       "            this.last_frame();\n",
       "        }else if(loop_state == \"reflect\"){\n",
       "            this.first_frame();\n",
       "            this.play_animation();\n",
       "        }else{\n",
       "            this.pause_animation();\n",
       "            this.first_frame();\n",
       "        }\n",
       "    }\n",
       "}\n",
       "\n",
       "ScrubberWidget.prototype.pause_animation = function() {\n",
       "    this.direction = 0;\n",
       "    if (this.timer){\n",
       "        clearInterval(this.timer);\n",
       "        this.timer = null;\n",
       "    }\n",
       "}\n",
       "\n",
       "ScrubberWidget.prototype.play_animation = function() {\n",
       "    this.pause_animation();\n",
       "    this.direction = 1;\n",
       "    var t = this;\n",
       "    if (!this.timer) this.timer = setInterval(function(){t.anim_step_forward();}, this.interval);\n",
       "}\n",
       "\n",
       "ScrubberWidget.prototype.reverse_animation = function() {\n",
       "    this.pause_animation();\n",
       "    this.direction = -1;\n",
       "    var t = this;\n",
       "    if (!this.timer) this.timer = setInterval(function(){t.anim_step_reverse();}, this.interval);\n",
       "}\n",
       "\n",
       "function extend(destination, source) {\n",
       "    for (var k in source) {\n",
       "        if (source.hasOwnProperty(k)) {\n",
       "            destination[k] = source[k];\n",
       "        }\n",
       "    }\n",
       "    return destination;\n",
       "}\n",
       "\n",
       "function update_widget(widget, values) {\n",
       "\tif (widget.hasClass(\"ui-slider\")) {\n",
       "\t\twidget.slider('option',\n",
       "\t\t\t\t\t  {'min': 0, 'max': values.length-1,\n",
       "\t\t\t\t\t   'dim_vals': values, 'value': 0,\n",
       "\t\t\t\t\t   'dim_labels': values})\n",
       "\t\twidget.slider('option', 'slide').call(widget, event, {'value': 0})\n",
       "\t} else {\n",
       "\t\twidget.empty();\n",
       "\t\tfor (var i=0; i<values.length; i++){\n",
       "\t\t\twidget.append($(\"<option>\", {\n",
       "\t\t\t\tvalue: i,\n",
       "\t\t\t\ttext: values[i]\n",
       "\t\t\t}))};\n",
       "\t\twidget.data('values', values);\n",
       "\t\twidget.data('value', 0);\n",
       "\t\twidget.trigger(\"change\");\n",
       "\t};\n",
       "}\n",
       "\n",
       "// Define MPL specific subclasses\n",
       "function MPLSelectionWidget() {\n",
       "    SelectionWidget.apply(this, arguments);\n",
       "}\n",
       "\n",
       "function MPLScrubberWidget() {\n",
       "    ScrubberWidget.apply(this, arguments);\n",
       "}\n",
       "\n",
       "// Let them inherit from the baseclasses\n",
       "MPLSelectionWidget.prototype = Object.create(SelectionWidget.prototype);\n",
       "MPLScrubberWidget.prototype = Object.create(ScrubberWidget.prototype);\n",
       "\n",
       "// Define methods to override on widgets\n",
       "var MPLMethods = {\n",
       "    init_slider : function(init_val){\n",
       "        if(this.load_json) {\n",
       "            this.from_json()\n",
       "        } else {\n",
       "            this.update_cache();\n",
       "        }\n",
       "        this.update(0);\n",
       "        if(this.mode == 'nbagg') {\n",
       "            this.set_frame(init_val, 0);\n",
       "        }\n",
       "    },\n",
       "    populate_cache : function(idx){\n",
       "        var cache_id = \"_anim_img\"+this.id+\"_\"+idx;\n",
       "        this.cache[idx].html(this.frames[idx]);\n",
       "        if (this.embed) {\n",
       "            delete this.frames[idx];\n",
       "        }\n",
       "    },\n",
       "    process_msg : function(msg) {\n",
       "        if (!(this.mode == 'nbagg')) {\n",
       "            var data = msg.content.data;\n",
       "            this.frames[this.current] = data;\n",
       "            this.update_cache(true);\n",
       "            this.update(this.current);\n",
       "        }\n",
       "    }\n",
       "}\n",
       "// Extend MPL widgets with backend specific methods\n",
       "extend(MPLSelectionWidget.prototype, MPLMethods);\n",
       "extend(MPLScrubberWidget.prototype, MPLMethods);\n",
       "</script>\n",
       "\n",
       "\n",
       "<link rel=\"stylesheet\" href=\"https://code.jquery.com/ui/1.10.4/themes/smoothness/jquery-ui.css\">\n",
       "<style>div.hololayout {\n",
       "    display: flex;\n",
       "    align-items: center;\n",
       "    margin: 0;\n",
       "}\n",
       "\n",
       "div.holoframe {\n",
       "\twidth: 75%;\n",
       "}\n",
       "\n",
       "div.holowell {\n",
       "    display: flex;\n",
       "    align-items: center;\n",
       "    margin: 0;\n",
       "}\n",
       "\n",
       "form.holoform {\n",
       "    background-color: #fafafa;\n",
       "    border-radius: 5px;\n",
       "    overflow: hidden;\n",
       "\tpadding-left: 0.8em;\n",
       "    padding-right: 0.8em;\n",
       "    padding-top: 0.4em;\n",
       "    padding-bottom: 0.4em;\n",
       "}\n",
       "\n",
       "div.holowidgets {\n",
       "    padding-right: 0;\n",
       "\twidth: 25%;\n",
       "}\n",
       "\n",
       "div.holoslider {\n",
       "    min-height: 0 !important;\n",
       "    height: 0.8em;\n",
       "    width: 60%;\n",
       "}\n",
       "\n",
       "div.holoformgroup {\n",
       "    padding-top: 0.5em;\n",
       "    margin-bottom: 0.5em;\n",
       "}\n",
       "\n",
       "div.hologroup {\n",
       "    padding-left: 0;\n",
       "    padding-right: 0.8em;\n",
       "    width: 50%;\n",
       "}\n",
       "\n",
       ".holoselect {\n",
       "    width: 92%;\n",
       "    margin-left: 0;\n",
       "    margin-right: 0;\n",
       "}\n",
       "\n",
       ".holotext {\n",
       "    width: 100%;\n",
       "    padding-left:  0.5em;\n",
       "    padding-right: 0;\n",
       "}\n",
       "\n",
       ".holowidgets .ui-resizable-se {\n",
       "\tvisibility: hidden\n",
       "}\n",
       "\n",
       ".holoframe > .ui-resizable-se {\n",
       "\tvisibility: hidden\n",
       "}\n",
       "\n",
       ".holowidgets .ui-resizable-s {\n",
       "\tvisibility: hidden\n",
       "}\n",
       "</style>\n",
       "\n",
       "\n",
       "<div>\n",
       "  <div>\n",
       "<img src='data:image/png;base64,iVBORw0KGgoAAAANSUhEUgAAAEAAAABACAYAAACqaXHeAAAABHNCSVQICAgIfAhkiAAAAAlwSFlz\n",
       "AAAB+wAAAfsBxc2miwAAABl0RVh0U29mdHdhcmUAd3d3Lmlua3NjYXBlLm9yZ5vuPBoAAA6zSURB\n",
       "VHic7ZtpeFRVmsf/5966taWqUlUJ2UioBBJiIBAwCZtog9IOgjqACsogKtqirT2ttt069nQ/zDzt\n",
       "tI4+CrJIREFaFgWhBXpUNhHZQoKBkIUASchWla1S+3ar7r1nPkDaCAnZKoQP/D7mnPOe9/xy76n3\n",
       "nFSAW9ziFoPFNED2LLK5wcyBDObkb8ZkxuaoSYlI6ZcOKq1eWFdedqNzGHQBk9RMEwFAASkk0Xw3\n",
       "ETacDNi2vtvc7L0ROdw0AjoSotQVkKSvHQz/wRO1lScGModBFbDMaNRN1A4tUBCS3lk7BWhQkgpD\n",
       "lG4852/+7DWr1R3uHAZVQDsbh6ZPN7CyxUrCzJMRouusj0ipRwD2uKm0Zn5d2dFwzX1TCGhnmdGo\n",
       "G62Nna+isiUqhkzuKrkQaJlPEv5mFl2fvGg2t/VnzkEV8F5ioioOEWkLG86fvbpthynjdhXYZziQ\n",
       "x1hC9J2NFyi8vCTt91Fh04KGip0AaG9zuCk2wQCVyoNU3Hjezee9bq92duzzTmxsRJoy+jEZZZYo\n",
       "GTKJ6SJngdJqAfRzpze0+jHreUtPc7gpBLQnIYK6BYp/uGhw9YK688eu7v95ysgshcg9qSLMo3JC\n",
       "4jqLKQFBgdKDPoQ+Pltb8dUyQLpeDjeVgI6EgLIQFT5tEl3rn2losHVsexbZ3EyT9wE1uGdkIPcy\n",
       "BGxn8QUq1QrA5nqW5i2tLqvrrM9NK6AdkVIvL9E9bZL/oyfMVd/jqvc8LylzRBKDJSzIExwhQzuL\n",
       "QYGQj4rHfFTc8mUdu3E7yoLtbTe9gI4EqVgVkug2i5+uXGo919ixbRog+3fTbQ8qJe4ZOYNfMoTI\n",
       "OoshUNosgO60AisX15aeI2PSIp5KiFLI9ubb1vV3Qb2ltwLakUCDAkWX7/nHKRmmGIl9VgYsUhJm\n",
       "2NXjKYADtM1ygne9QQDIXlk49FBstMKx66D1v4+XuQr7vqTe0VcBHQlRWiOCbmmSYe2SqtL6q5rJ\n",
       "zsTb7lKx3FKOYC4DoqyS/B5bvLPxvD9Qtf6saxYLQGJErmDOdOMr/zo96km1nElr8bmPOBwI9COv\n",
       "HnFPRIwmkSOv9kcAS4heRsidOkpeWBgZM+UBrTFAXNYL5Vf2ii9c1trNzpYdaoVil3WIc+wdk+gQ\n",
       "noie3ecCcxt9ITcLAPWt/laGEO/9U6PmzZkenTtsSMQ8uYywJVW+grCstAvCIaAdArAsIWkRDDs/\n",
       "KzLm2YcjY1Lv0UdW73HabE9n6V66cxSzfEmuJssTpKGVp+0vHq73FwL46eOjpMpbRAnNmJFrGJNu\n",
       "Ukf9Yrz+3rghiumCKNXXWPhLYcjxGsIpoCMsIRoFITkW8AuyM8jC1+/QLx4bozCEJIq38+1rtpR6\n",
       "V/yzb8eBlRb3fo5l783N0CWolAzJHaVNzkrTzlEp2bQ2q3TC5gn6wpnoQAmwSiGh2GitnTmVMc5O\n",
       "UyfKWUKCIsU7+fZDKwqdT6DDpvkzAX4/+AMFjk0tDp5GRXLpQ2MUmhgDp5gxQT8+Y7hyPsMi8uxF\n",
       "71H0oebujHALECjFKaW9Lm68n18wXp2kVzIcABytD5iXFzg+WVXkegpAsOOYziqo0OkK76GyquC3\n",
       "ltZAzMhhqlSNmmWTE5T6e3IN05ITFLM4GdN0vtZ3ob8Jh1NAKXFbm5PtLU/eqTSlGjkNAJjdgn/N\n",
       "aedXa0tdi7+t9G0FIF49rtMSEgAs1kDLkTPO7ebm4IUWeyh1bKomXqlgMG6kJmHcSM0clYLJ8XtR\n",
       "1GTnbV3F6I5wCGikAb402npp1h1s7LQUZZSMIfALFOuL3UUrfnS8+rez7v9qcold5tilgHbO1fjK\n",
       "9ubb17u9oshxzMiUBKXWqJNxd+fqb0tLVs4lILFnK71H0Ind7uiPgACVcFJlrb0tV6DzxqqTIhUM\n",
       "CwDf1/rrVhTa33/3pGPxJYdQ2l2cbgVcQSosdx8uqnDtbGjh9SlDVSMNWhlnilfqZk42Th2ZpLpf\n",
       "xrHec5e815zrr0dfBZSwzkZfqsv+1FS1KUknUwPARVvItfKUY+cn57yP7qv07UE3p8B2uhUwLk09\n",
       "e0SCOrK+hbdYHYLjRIl71wWzv9jpEoeOHhGRrJAzyEyNiJuUqX0g2sBN5kGK6y2Blp5M3lsB9Qh4\n",
       "y2Ja6x6+i0ucmKgwMATwhSjdUu49tKrQ/pvN5d53ml2CGwCmJipmKjgmyuaXzNeL2a0AkQ01Th5j\n",
       "2DktO3Jyk8f9vcOBQHV94OK+fPumJmvQHxJoWkaKWq9Vs+yUsbq0zGT1I4RgeH2b5wef7+c7bl8F\n",
       "eKgoHVVZa8ZPEORzR6sT1BzDUAD/d9F78e2Tzv99v8D+fLVTqAKAsbGamKey1Mt9Ann4eH3gTXTz\n",
       "idWtAJ8PQWOk7NzSeQn/OTHDuEikVF1R4z8BQCy+6D1aWRfY0tTGG2OM8rRoPaeIj5ZHzJxszElN\n",
       "VM8K8JS5WOfv8mzRnQAKoEhmt8gyPM4lU9SmBK1MCQBnW4KONT86v1hZ1PbwSXPw4JWussVjtH9Y\n",
       "NCoiL9UoH/6PSu8jFrfY2t36erQHXLIEakMi1SydmzB31h3GGXFDFNPaK8Rme9B79Ixrd0WN+1ij\n",
       "NRQ/doRmuFLBkHSTOm5GruG+pFjFdAmorG4IXH1Qua6ASniclfFtDYt+oUjKipPrCQB7QBQ2lrgP\n",
       "fFzm+9XWUtcqJ3/5vDLDpJ79XHZk3u8nGZ42qlj1+ydtbxysCezrydp6ugmipNJ7WBPB5tydY0jP\n",
       "HaVNzs3QzeE4ZpTbI+ZbnSFPbVOw9vsfnVvqWnirPyCNGD08IlqtYkh2hjZ5dErEQzoNm+6ykyOt\n",
       "Lt5/PQEuSRRKo22VkydK+vvS1XEKlhCJAnsqvcVvH7f/ZU2R67eXbMEGAMiIV5oWZWiWvz5Fv2xG\n",
       "sjqNJQRvn3Rs2lji/lNP19VjAQDgD7FHhujZB9OGqYxRkZxixgRDVlqS6uEOFaJUVu0rPFzctrnF\n",
       "JqijImVp8dEKVWyUXDk92zAuMZ6bFwpBU1HrOw6AdhQgUooChb0+ItMbWJitSo5Ws3IAOGEOtL53\n",
       "0vHZih9sC4vtofZ7Qu6523V/fmGcds1TY3V36pUsBwAbSlxnVh2xLfAD/IAIMDf7XYIkNmXfpp2l\n",
       "18rkAJAy9HKFaIr/qULkeQQKy9zf1JgDB2uaeFNGijo5QsUyacNUUTOnGO42xSnv4oOwpDi1zYkc\n",
       "efUc3I5Gk6PhyTuVKaOGyLUAYPGIoY9Pu/atL/L92+4q9wbflRJ2Trpm/jPjdBtfnqB/dIThcl8A\n",
       "KG7hbRuKnb8qsQsVvVlTrwQAQMUlf3kwJI24Z4JhPMtcfng5GcH49GsrxJpGvvHIaeem2ma+KSjQ\n",
       "lIwUdYyCY8j4dE1KzijNnIP2llF2wcXNnsoapw9XxsgYAl6k+KzUXbi2yP3KR2ecf6z3BFsBICdW\n",
       "nvnIaG3eHybqX7vbpEqUMT+9OL4Qpe8VON7dXuFd39v19FoAABRVePbGGuXTszO0P7tu6lghUonE\n",
       "llRdrhArLvmKdh9u29jcFiRRkfLUxBiFNiqSU9icoZQHo5mYBI1MBgBH6wMNb+U7Pnw337H4gi1Y\n",
       "ciWs+uks3Z9fztUvfzxTm9Ne8XXkvQLHNytOOZeiD4e0PgkAIAYCYknKUNUDSXEKzdWNpnil7r4p\n",
       "xqkjTarZMtk/K8TQ6Qve78qqvXurGwIJqcOUKfUWHsm8KGvxSP68YudXq4pcj39X49uOK2X142O0\n",
       "Tz5/u/7TVybqH0rSya6ZBwD21/gubbrgWdDgEOx9WUhfBaC2ibcEBYm7a7x+ukrBMNcEZggyR0TE\n",
       "T8zUPjikQ4VosQZbTpS4vqizBKvqmvjsqnpfzaZyx9JPiz1/bfGKdgD45XB1zoIMzYbfTdS/NClB\n",
       "Gct0USiY3YL/g0LHy/uq/Ef6uo5+n0R/vyhp17Klpge763f8rMu6YU/zrn2nml+2WtH+Z+5IAAFc\n",
       "2bUTdTDOSNa9+cQY7YLsOIXhevEkCvzph7a8laecz/Un/z4/Ae04XeL3UQb57IwU9ZDr9UuKVajv\n",
       "nxp1+1UVIo/LjztZkKH59fO3G/JemqCfmaCRqbqbd90ZZ8FfjtkfAyD0J/9+C2h1hDwsSxvGjNDc\n",
       "b4zk5NfrSwiQblLHzZhg+Jf4aPlUwpDqkQqa9nimbt1/TDH8OitGMaQnj+RJS6B1fbF7SY1TqO5v\n",
       "/v0WAADl1f7zokgS7s7VT2DZ7pegUjBM7mjtiDZbcN4j0YrHH0rXpCtY0qPX0cVL0rv5jv/ZXend\n",
       "0u/EESYBAFBU4T4Qa5TflZOhTe7pmKpaP8kCVUVw1+yhXfJWvn1P3hnXi33JsTN6PnP3hHZ8Z3/h\n",
       "aLHzmkNPuPj7Bc/F/Q38CwjTpSwQXgE4Vmwry9tpfq/ZFgqFMy4AVDtCvi8rvMvOmv0N4YwbVgEA\n",
       "sPM72/KVnzfspmH7HQGCRLG2yL1+z8XwvPcdCbsAANh+xPzstgMtxeGKt+6MK3/tacfvwhWvIwMi\n",
       "oKEBtm0H7W+UVfkc/Y1V0BhoPlDr/w1w/eu1vjIgAgDg22OtX6/eYfnEz/focrZTHAFR+PSs56/7\n",
       "q32nwpjazxgwAQCwcU/T62t3WL7r6/jVRa6/byp1rei+Z98ZUAEAhEPHPc8fKnTU9nbgtnOe8h0l\n",
       "9hcGIqmODLQAHCy2Xti6v/XNRivf43f4fFvIteu854+VHnR7q9tfBlwAAGz+pnndB9vM26UebAe8\n",
       "SLHujPOTPVW+rwY+sxskAAC2HrA8t2Vvc7ffP1r9o+vwR2dcr92InIAbKKC1FZ5tB1tf+/G8p8sv\n",
       "N/9Q5zd/XR34LYCwV5JdccMEAMDBk45DH243r/X4xGvqxFa/GNpS7n6rwOwNWwHVE26oAADYurf1\n",
       "zx/utOzt+DMKYM0p17YtZZ5VNzqfsB2HewG1WXE8PoZ7gOclbTIvynZf9JV+fqZtfgs/8F/Nu5rB\n",
       "EIBmJ+8QRMmpU7EzGRsf2FzuePqYRbzh/zE26EwdrT10f6r6o8HOYzCJB9Dpff8tbnGLG8L/A/WE\n",
       "roTBs2RqAAAAAElFTkSuQmCC'\n",
       "     style='height:25px; border-radius:12px; display: inline-block; float: left; vertical-align: middle'/>\n",
       "\n",
       "</div>\n",
       "\n",
       "</div>\n",
       "\n",
       "\n",
       "<div>\n",
       "  <img src='data:image/png;base64,iVBORw0KGgoAAAANSUhEUgAAACAAAAAgCAYAAABzenr0AAAABHNCSVQICAgIfAhkiAAAAAlwSFlz\n",
       "AAAFMAAABTABZarKtgAAABl0RVh0U29mdHdhcmUAd3d3Lmlua3NjYXBlLm9yZ5vuPBoAAArNSURB\n",
       "VFiFnVd5VFNXGv/ee0kgGyQhbFoXIKCFYEXEDVErTucMoKUOWA/VLsNSLPQgFTOdyrHPiIp1lFIQ\n",
       "OlaPShEG3EpPcQmISCuV1bQ1CLKIULeQhJA9JO+9+UMT0x5aPfOdc895373f/e7v/t537/ddBF5Q\n",
       "JBIJl81mJwCACEVRQBCEQhAEAQCgnghCURRCkmS7Wq2+WlJSYn0Rv8jzDHAcD0EQJIVGo5mFQuGF\n",
       "jIyMu39kq1KpkOrq6gU6nS6aIAiGzWY7VVBQ0P9/AcjNzWXy+fxcOp2uiY+Przm0d6+n8dblv/Fo\n",
       "kzM4SzYfPlRePvFnjnt6ehh1dXVv2mw2nlar/byoqMj8wgBwHBchCJIZEhJSeu1yHVi7vtu02t8+\n",
       "NykQ7BMWoOUMhXQsXLv5IQAwSJJEEASxcDicoeTk5DtCoZBy9XX69Gnv3t7ebJIky3EcH3guAKlU\n",
       "GoGiaOKWLVsOvhs7/9XXPMde3/IyIFbMnaPDuD5AUdQuOf2XlD0npTExMWYAgNbWVpZcLg8xGAzB\n",
       "JEnSvby82tPT052LaTQatLy8fBtJkt/s3Lnz5h8CwHFcRKPRNu/YsePAjh072KTs0IGCxRg8RgUB\n",
       "TGpSx6cmHgMAfNqN6Xa1GvJ/D35gYAAViURkcXHxUrPZHDRv3rxv4uLiDI7xPXv2bLdYLBUFBQWD\n",
       "jj7M8ZGbm8tkMpmSrKysQiaTScXGxtpqL7dManT6tcu5mgEWWJyOhicozpk+c3NsbKzNFcBbWWEf\n",
       "1Td9/upA30i3ZJv0h8bGxiSFQmFcuHDhOACAWCy+0d3dvX3lypUtzc3N9t8AiIuLk4SEhByLiooy\n",
       "AgAcO3ZsNlPgH3Cttb35JZo+bCYXIQAA9MDiUW7sWS1KN687w6Mera2twa2trfMvXboUOS28Pyb1\n",
       "U08McRtf/sXBSmt5cc35pqamVQqFwhoZGallMpnU/fv3e7RaberVq1d/AABAn1IfQqfTNRs3blQB\n",
       "AFy+fJk7Nja2XCKRnD3dNSorusPq6NfTPR+gPiEEoLRFXO1tS2+zavv27ReftjNttyr0S1/j0rUP\n",
       "PEJQwNwQYGgAACQSyXmNRhMtk8lYAAApKSlKDMP0+fn5QU4ACIKkxMfH1zjYuHnz5uspKSlOfdX7\n",
       "u68fvOePcCzKQR4YVCgATGfa/F3pnzaHWOAXSDyaMCqH2+r8VXErP3D+snXr1tV2dXW94dATExOr\n",
       "6XT6JgAAVCKRcDEMM4WHh9sAAHJyUqNu//wDymKx7AAAVVVVPiaTKXxByrYMvBsxEMSTwPXhuL+8\n",
       "e/fu9fv371+flvbemogYNz+TnsBOFEwMFO8/KzEYDKFVVVX+AAChoaGT7u7ud48ePRro0DEMs+bl\n",
       "5bFRNpud4O3tfdGBzq5uy/5wTUPM/q2zC9atmbVqeHg4Pi0t7WxGRoZFH5rw76I7LI8HqHfwPL7d\n",
       "rfVagzw1NfW81t4ePUfsP/OrnWZ6fPSuUqFQSEkkkrOjo6OvuQR5q0ajiXLoPj4+lzgcTjwKACLH\n",
       "9SqXy2kzhBO8haGo+UA2wZW+p880DxeveGt9aHx9fT09ctlq3sC0NT9e6xsbjuZblSxl7wKtVotM\n",
       "m6PnXvlmZJBtX91CEMQsxyJsNlteXl4udugIghAajQYFAEhPTx9AEGQOimGY8y4oLt63KlJkdB4t\n",
       "P282Z/c/dPrDH04ktJ9P2tfWXP3+2o1vHzunEp6Xq0lsGt08KzUrcSGTQ3n3XeefLCs5UqnT6Rap\n",
       "VCoEACA7O/snvV4f5gJooLa2NsihoygKKEVRzquTND2OCpttGXdG1tOxwOlgzdvE9v30rV+m3W5I\n",
       "2jfJNQmLH85QUUzPNTwvkAx0+vVGhq2/VV9fT+dyuZ01NTXOXQOA3fGxevXq2waDYY5r8KIoij5b\n",
       "jzB5Cz2oKdOo0erOm+1tVuVtBMZXElNMRJR1fvvjx9iPLQ/RjpuB0Xu/Vp7YmH1864YNG3oNBkPw\n",
       "VD7mzp1rJUnSzZUBmqsBggAgGFC/n6jVA+3WoN3tu1Gg39cg2tEx1Cg3CIJHsclxnl2HRorMN8Z0\n",
       "fRW+vr7GJ36Q56Z5h9BIknzGAMJWtvdQYs0EZe3/FSwqk5tpXEMb1JoYD+n8xRdQJl/fMPEgzKhS\n",
       "L40KCD7lGzg92qIyovpb3y/msT2un2psvFpWVvYyl8vtc1nDSXFXV5c7iqLOtEyS5LNBAADfWeKm\n",
       "Ly4uuvR1++sfv51/P5sfnHm2/Iy+mBmwsaHJbpt+Q0jHSS7TZ/PSNVkNJ/973OxtemD1s91CPb12\n",
       "h9MfvZsk5meo1eqo5ORkxTNWn7HR1tY2l8PhOAsUiqIolCRJcETtv/61qzNySYK5trZ2TCgUUiwW\n",
       "S1FSUhLR+bA/kAzwXcAbHa/cFhrTXrJ/v+7IkSPu3Je4Xm5eboJv2wba5QbO5fQwxhsP679Y+nFO\n",
       "jgAAoKSkJILFYjnBGI1G0YYNGwYBnqRoiqIQlKKojurq6gUAAAKBgKQoiuGYkJWVpTCZTOKmI1Xd\n",
       "HwnDcm+cOnOMw+H0FxYWbqpvqv/r9EV+bky+O+/QoUPiqJRt9JphTLFHbKBCR87tWL9EPN9oNIZn\n",
       "ZWUpXHaMCQQCEgCgsrIyEgBuoGq1+qpOp4t2GPH5/BvFxcVLHXpgYGDD8ePH/56Xl2cCAMjMzOxP\n",
       "S0s7pWfow4RCbz/fAF9RT0+P9yeffHJySSqev+9nxLD1FaAlTR8vlJ8vxxzsFhUVLRMIBB0OvwaD\n",
       "YRlFUdfQkpISK0EQ9J6eHgYAQEZGxl2z2Rw0MjJCBwBITk5+xOVyfzpw4ECSw5lQKKQIbxtJm4EN\n",
       "8eZ7jPz0oNv+dK5FG/jq54eH+IFr/S1KabBy0UerAvI+++wzD4vFEpCWljYEACCTyVh2ux3FcXwS\n",
       "BQCw2WxVdXV1bzrQRURE1FVVVTn1zMzM/pkzZ35/9OjRd0pLS19RqVQIy4/tCwDgOcPTQvFQEQBA\n",
       "aWnpK0ERK2LbyVllN341GUJ4YDu8zD5bKyur7O+85tx9Z2fnO1ar9QjA04KkpaVFs2LFir8olcq7\n",
       "YWFhJpFINNnX16drbGyMjY6Ovg0AIBaLjcuXL5d3d3d7XbhwIW704b3F479MeD1qVfJ5Og/bvb4R\n",
       "LwaDMZabm9uwflNa/z/3HOIv5NsDEK7XS7FeevXPvYNLvm5S/GglCK5KpZorlUobXE8g5ObmMqVS\n",
       "6UG1Wu1BURSHoijOiRMnwgoLC7coFAqBo+9Fm0KhEKStmvvto3TeucFN7pVJYbytarXaQyqVHsRx\n",
       "3N15TF1BuBaljr4rV66wOzo63mAymXdzcnKuwwtIUVHRMqvVGkgQxMV7NXvyJijGvcNXB/7z5Zdf\n",
       "bicI4gSO40NTAgD4bVnuODIAT2pElUq1FEEQO4fD6QsPD++fqixHEATj8/ntjoCrqKhwS0hIsJWV\n",
       "leURBHEOx3G563pT3tn5+flBDAbjg6CgoMMpKSlK17GhoSFMJpMFPk04DJIkEQzDzCwW6+5UD5Oa\n",
       "mhrfO3fufECS5GHXnf8pAAAAHMfdURTdimGYPjExsTo0NHTyj2ynEplMxurs7HyHIAiKJMlSHMct\n",
       "U9k9N2vl5+cH0en0TRiGWX18fC65vnh+LxqNBq2oqFhgMpmi7XY7arVaj+zdu/fxn/l/4bSZl5fH\n",
       "5nK5CQAQMtXznCRJePpEbwOAZhzHX4ix/wHzzC/tu64gcwAAAABJRU5ErkJggg=='\n",
       "       style='height:15px; border-radius:12px; display: inline-block; float: left; vertical-align: middle'/>\n",
       "  \n",
       "</div>\n",
       "\n",
       "\n",
       "</div>\n",
       "\n",
       "\n",
       "</div>\n"
      ],
      "text/plain": [
       "<IPython.core.display.HTML object>"
      ]
     },
     "metadata": {},
     "output_type": "display_data"
    }
   ],
   "source": [
    "# Related third party imports\n",
    "import holoviews as hv\n",
    "import kwant\n",
    "import numpy as np\n",
    "import pandas as pd\n",
    "\n",
    "# Local imports\n",
    "import funcs\n",
    "\n",
    "%matplotlib inline\n",
    "hv.notebook_extension()"
   ]
  },
  {
   "cell_type": "markdown",
   "metadata": {},
   "source": [
    "# Creating some wires as example"
   ]
  },
  {
   "cell_type": "code",
   "execution_count": 6,
   "metadata": {},
   "outputs": [
    {
     "data": {
      "image/png": "[encoded data removed]",
      "text/plain": [
       "<matplotlib.figure.Figure at 0x7f663ab91f60>"
      ]
     },
     "metadata": {
      "needs_background": "light"
     },
     "output_type": "display_data"
    }
   ],
   "source": [
    "# Create system with infinite leads\n",
    "syst_pars = dict(a=8, angle=0, site_disorder=False, holes=True, L=320, L_sc=80,\n",
    "                 phi=135, r1=60, r2=90, shape='circle', with_leads=True,\n",
    "                 with_shell=True, with_vlead=True)\n",
    "\n",
    "syst, hopping = funcs.make_3d_wire(**syst_pars)\n",
    "kwant.plot(syst);"
   ]
  },
  {
   "cell_type": "code",
   "execution_count": 7,
   "metadata": {},
   "outputs": [
    {
     "data": {
      "image/png": "[encoded data removed]",
      "text/plain": [
       "<matplotlib.figure.Figure at 0x7f1db84fe9e8>"
      ]
     },
     "metadata": {
      "needs_background": "light"
     },
     "output_type": "display_data"
    },
    {
     "data": {
      "image/png": "[encoded data removed]",
      "text/plain": [
       "<matplotlib.figure.Figure at 0x7f1db84fe9e8>"
      ]
     },
     "execution_count": 7,
     "metadata": {},
     "output_type": "execute_result"
    }
   ],
   "source": [
    "# Create system without leads and bigger SC regions\n",
    "syst_pars['L_sc'] = 40\n",
    "syst_pars['L'] = 200\n",
    "syst, hopping = funcs.make_3d_wire(**syst_pars)\n",
    "kwant.plot(syst)#, site_size=0, hop_lw=0.1);"
   ]
  },
  {
   "cell_type": "code",
   "execution_count": 8,
   "metadata": {},
   "outputs": [
    {
     "data": {
      "image/png": "[encoded data removed]",
      "text/plain": [
       "<matplotlib.figure.Figure at 0x7f1d4a2b6dd8>"
      ]
     },
     "metadata": {
      "needs_background": "light"
     },
     "output_type": "display_data"
    }
   ],
   "source": [
    "# Create system without leads\n",
    "syst_pars['with_leads'] = False\n",
    "syst, hopping = funcs.make_3d_wire(**syst_pars)\n",
    "kwant.plot(syst);"
   ]
  },
  {
   "cell_type": "markdown",
   "metadata": {},
   "source": [
    "# Mean free path calculation\n",
    "See [mean-free-path.ipynb](mean-free-path.ipynb) for the data processing."
   ]
  },
  {
   "cell_type": "markdown",
   "metadata": {},
   "source": [
    "## Reduce all vals (Ls, salts, ...) to lenth 1 vectors to save time..."
   ]
  },
  {
   "cell_type": "code",
   "execution_count": 6,
   "metadata": {},
   "outputs": [
    {
     "name": "stdout",
     "output_type": "stream",
     "text": [
      "2\n"
     ]
    }
   ],
   "source": [
    "syst_pars = dict(a=8, angle=0, site_disorder=True, holes=False, L_sc=8,\n",
    "                 phi=135, r1=60, r2=90, shape='circle', with_leads=True,\n",
    "                 with_shell=False, with_vlead=False)\n",
    "\n",
    "params = dict(alpha=20, B_x=0, B_y=0, B_z=0, Delta=0, g=50,\n",
    "              orbital=True, V='lambda x: 0', **funcs.constants.__dict__)\n",
    "\n",
    "Ls = [80]\n",
    "salts = [0]\n",
    "disorders = [0,10]\n",
    "mus = [10]\n",
    "\n",
    "vals = funcs.named_product(salt=salts, disorder=disorders, L=Ls, mu=mus)\n",
    "print(len(vals))\n",
    "\n",
    "def func(val, syst_pars=syst_pars, params=params):\n",
    "    import kwant, funcs\n",
    "    \n",
    "    # Combine the fixed parameters `params` and the changing\n",
    "    # parameters `val` to one dict and evaluate the string\n",
    "    # lambda functions.\n",
    "    params = funcs.parse_params(dict(**params, **val))\n",
    "    \n",
    "    # Remove the parameters from `params` that belong in `syst_pars`.\n",
    "    for x in ['L']:\n",
    "        syst_pars[x] = params.pop(x)\n",
    "\n",
    "    syst, hopping = funcs.make_3d_wire(**syst_pars)\n",
    "    smatrix = kwant.smatrix(syst, params=params)\n",
    "    \n",
    "    # Return a combined dictionary with the results and input.\n",
    "    return dict(transmission=smatrix.transmission(0, 1),\n",
    "                num_propagating=smatrix.num_propagating(0),\n",
    "                **val)\n"
   ]
  },
  {
   "cell_type": "code",
   "execution_count": 7,
   "metadata": {},
   "outputs": [],
   "source": [
    "# using ralative path (path starts with \"./\")\n",
    "fname = './tmp/I_c(B_x)_mu0_20meV_disorder0,75meV_T0.05K_orbital_SOI_Zeeman.hdf'"
   ]
  },
  {
   "cell_type": "code",
   "execution_count": 8,
   "metadata": {
    "scrolled": true
   },
   "outputs": [
    {
     "name": "stdout",
     "output_type": "stream",
     "text": [
      "   2/2 tasks finished after    5 s\n",
      "done\n",
      "Saved ./tmp/I_c(B_x)_mu0_20meV_disorder0,75meV_T0.05K_orbital_SOI_Zeeman.hdf, 0 more files to go, 0:00:00 time left before everything is done.\n"
     ]
    }
   ],
   "source": [
    "funcs.run_simulation(lview,func, vals, dict(**params, **syst_pars), fname, overwrite=True)"
   ]
  },
  {
   "cell_type": "code",
   "execution_count": 9,
   "metadata": {},
   "outputs": [],
   "source": [
    "df = pd.read_hdf(fname)"
   ]
  },
  {
   "cell_type": "code",
   "execution_count": 10,
   "metadata": {},
   "outputs": [
    {
     "data": {
      "text/html": [
       "<div>\n",
       "<style>\n",
       "    .dataframe thead tr:only-child th {\n",
       "        text-align: right;\n",
       "    }\n",
       "\n",
       "    .dataframe thead th {\n",
       "        text-align: left;\n",
       "    }\n",
       "\n",
       "    .dataframe tbody tr th {\n",
       "        vertical-align: top;\n",
       "    }\n",
       "</style>\n",
       "<table border=\"1\" class=\"dataframe\">\n",
       "  <thead>\n",
       "    <tr style=\"text-align: right;\">\n",
       "      <th></th>\n",
       "      <th>L</th>\n",
       "      <th>disorder</th>\n",
       "      <th>mu</th>\n",
       "      <th>num_propagating</th>\n",
       "      <th>salt</th>\n",
       "      <th>transmission</th>\n",
       "      <th>B_x</th>\n",
       "      <th>B_y</th>\n",
       "      <th>B_z</th>\n",
       "      <th>Delta</th>\n",
       "      <th>...</th>\n",
       "      <th>orbital</th>\n",
       "      <th>phi</th>\n",
       "      <th>r1</th>\n",
       "      <th>r2</th>\n",
       "      <th>shape</th>\n",
       "      <th>site_disorder</th>\n",
       "      <th>t</th>\n",
       "      <th>with_leads</th>\n",
       "      <th>with_shell</th>\n",
       "      <th>with_vlead</th>\n",
       "    </tr>\n",
       "  </thead>\n",
       "  <tbody>\n",
       "    <tr>\n",
       "      <th>0</th>\n",
       "      <td>80</td>\n",
       "      <td>0</td>\n",
       "      <td>10</td>\n",
       "      <td>6</td>\n",
       "      <td>0</td>\n",
       "      <td>6.00000</td>\n",
       "      <td>0</td>\n",
       "      <td>0</td>\n",
       "      <td>0</td>\n",
       "      <td>0</td>\n",
       "      <td>...</td>\n",
       "      <td>True</td>\n",
       "      <td>135</td>\n",
       "      <td>60</td>\n",
       "      <td>90</td>\n",
       "      <td>circle</td>\n",
       "      <td>True</td>\n",
       "      <td>2539.988053</td>\n",
       "      <td>True</td>\n",
       "      <td>False</td>\n",
       "      <td>False</td>\n",
       "    </tr>\n",
       "    <tr>\n",
       "      <th>1</th>\n",
       "      <td>80</td>\n",
       "      <td>10</td>\n",
       "      <td>10</td>\n",
       "      <td>6</td>\n",
       "      <td>0</td>\n",
       "      <td>5.88072</td>\n",
       "      <td>0</td>\n",
       "      <td>0</td>\n",
       "      <td>0</td>\n",
       "      <td>0</td>\n",
       "      <td>...</td>\n",
       "      <td>True</td>\n",
       "      <td>135</td>\n",
       "      <td>60</td>\n",
       "      <td>90</td>\n",
       "      <td>circle</td>\n",
       "      <td>True</td>\n",
       "      <td>2539.988053</td>\n",
       "      <td>True</td>\n",
       "      <td>False</td>\n",
       "      <td>False</td>\n",
       "    </tr>\n",
       "  </tbody>\n",
       "</table>\n",
       "<p>2 rows × 37 columns</p>\n",
       "</div>"
      ],
      "text/plain": [
       "    L  disorder  mu  num_propagating  salt  transmission  B_x  B_y  B_z  \\\n",
       "0  80         0  10                6     0       6.00000    0    0    0   \n",
       "1  80        10  10                6     0       5.88072    0    0    0   \n",
       "\n",
       "   Delta     ...      orbital  phi  r1  r2   shape  site_disorder  \\\n",
       "0      0     ...         True  135  60  90  circle           True   \n",
       "1      0     ...         True  135  60  90  circle           True   \n",
       "\n",
       "             t  with_leads  with_shell  with_vlead  \n",
       "0  2539.988053        True       False       False  \n",
       "1  2539.988053        True       False       False  \n",
       "\n",
       "[2 rows x 37 columns]"
      ]
     },
     "execution_count": 10,
     "metadata": {},
     "output_type": "execute_result"
    }
   ],
   "source": [
    "df"
   ]
  },
  {
   "cell_type": "code",
   "execution_count": 11,
   "metadata": {},
   "outputs": [
    {
     "data": {
      "text/plain": [
       "Index(['L', 'disorder', 'mu', 'num_propagating', 'salt', 'transmission', 'B_x',\n",
       "       'B_y', 'B_z', 'Delta', 'L_sc', 'V', 'a', 'alpha', 'angle', 'c',\n",
       "       'current_unit', 'e', 'eV', 'g', 'hbar', 'holes', 'k', 'm_e', 'm_eff',\n",
       "       'meV', 'mu_B', 'orbital', 'phi', 'r1', 'r2', 'shape', 'site_disorder',\n",
       "       't', 'with_leads', 'with_shell', 'with_vlead'],\n",
       "      dtype='object')"
      ]
     },
     "execution_count": 11,
     "metadata": {},
     "output_type": "execute_result"
    }
   ],
   "source": [
    "df.columns"
   ]
  },
  {
   "cell_type": "markdown",
   "metadata": {},
   "source": [
    "# $B_x(I_c)$ combinations of effects and geometries:"
   ]
  },
  {
   "cell_type": "code",
   "execution_count": 18,
   "metadata": {},
   "outputs": [
    {
     "ename": "NameError",
     "evalue": "name 'lview' is not defined",
     "output_type": "error",
     "traceback": [
      "\u001b[0;31m---------------------------------------------------------------------------\u001b[0m",
      "\u001b[0;31mNameError\u001b[0m                                 Traceback (most recent call last)",
      "\u001b[0;32m<ipython-input-18-1627e7d18266>\u001b[0m in \u001b[0;36m<module>\u001b[0;34m\u001b[0m\n\u001b[1;32m     35\u001b[0m \u001b[0;34m\u001b[0m\u001b[0m\n\u001b[1;32m     36\u001b[0m \u001b[0mfname\u001b[0m \u001b[0;34m=\u001b[0m \u001b[0;34m\"tmp/I_c(B_x)_no_disorder_combinations_of_effects_and_geometries_{}.hdf\"\u001b[0m\u001b[0;34m\u001b[0m\u001b[0;34m\u001b[0m\u001b[0m\n\u001b[0;32m---> 37\u001b[0;31m \u001b[0mfuncs\u001b[0m\u001b[0;34m.\u001b[0m\u001b[0mrun_simulation\u001b[0m\u001b[0;34m(\u001b[0m\u001b[0mlview\u001b[0m\u001b[0;34m,\u001b[0m \u001b[0mfunc\u001b[0m\u001b[0;34m,\u001b[0m \u001b[0mvals\u001b[0m\u001b[0;34m,\u001b[0m \u001b[0mdict\u001b[0m\u001b[0;34m(\u001b[0m\u001b[0;34m**\u001b[0m\u001b[0mparams\u001b[0m\u001b[0;34m,\u001b[0m \u001b[0;34m**\u001b[0m\u001b[0msyst_pars\u001b[0m\u001b[0;34m)\u001b[0m\u001b[0;34m,\u001b[0m \u001b[0mfname\u001b[0m\u001b[0;34m,\u001b[0m \u001b[0;36m2000\u001b[0m\u001b[0;34m)\u001b[0m\u001b[0;34m\u001b[0m\u001b[0;34m\u001b[0m\u001b[0m\n\u001b[0m",
      "\u001b[0;31mNameError\u001b[0m: name 'lview' is not defined"
     ]
    }
   ],
   "source": [
    "syst_pars = dict(a=8, angle=0, site_disorder=False, holes=True, phi=135,\n",
    "                 r1=60, r2=70, shape='circle', with_shell=True, with_vlead=True)\n",
    "\n",
    "params = dict(B_y=0, B_z=0, Delta=60, c_tunnel=5/8, V=lambda x: 0, **funcs.constants.__dict__)\n",
    "\n",
    "Ts = [0.1, 0.5, 1]\n",
    "orbital_bools = [False, True]\n",
    "gs = [0, 50]\n",
    "alphas = [0, 20]\n",
    "mus = [10, 15, 20, 25, 30]\n",
    "Ls = [80, 160, 320, 640]\n",
    "leads = [(True, 8), (False, 400)]\n",
    "Bs = np.linspace(0, 2, 101)\n",
    "\n",
    "vals = funcs.named_product(T=Ts, L=Ls, orbital=orbital_bools,\n",
    "                           g=gs, alpha=alphas, mu=mus, leads=leads, B_x=Bs)\n",
    "\n",
    "def func(val, syst_pars=syst_pars, params=params):\n",
    "    import funcs\n",
    "    val['with_leads'], val['L_sc'] = val['leads']\n",
    "\n",
    "    # Combine the fixed parameters `params` and the changing\n",
    "    # parameters `val` to one dict and evaluate the string\n",
    "    # lambda functions.\n",
    "    params = funcs.parse_params(dict(**params, **val))\n",
    "\n",
    "    # Remove the parameters from `params` that belong in `syst_pars`.\n",
    "    for x in ['with_leads', 'L_sc', 'L']:\n",
    "        syst_pars[x] = params.pop(x)\n",
    "\n",
    "    syst, hopping = funcs.make_3d_wire(**syst_pars)\n",
    "\n",
    "    # Return a combined dictionary with the results and input.\n",
    "    return dict(**funcs.I_c(syst, hopping, params), **val)\n",
    "\n",
    "fname = \"tmp/I_c(B_x)_no_disorder_combinations_of_effects_and_geometries_{}.hdf\"\n",
    "funcs.run_simulation(lview, func, vals, dict(**params, **syst_pars), fname, 2000)\n"
   ]
  },
  {
   "cell_type": "markdown",
   "metadata": {},
   "source": [
    "# $B_x(I_c)$ with disorder:\n",
    "* Main paper figure 4\n",
    "* Supplementary materials figure 8"
   ]
  },
  {
   "cell_type": "code",
   "execution_count": 13,
   "metadata": {},
   "outputs": [
    {
     "name": "stdout",
     "output_type": "stream",
     "text": [
      "2\n"
     ]
    }
   ],
   "source": [
    "ONLY_PAPER_COMBINATIONS = False\n",
    "\n",
    "syst_pars = dict(a=8, angle=0, site_disorder=True, holes=True, L=160,\n",
    "                 L_sc=80, phi=135, r1=60, r2=75, shape='circle',\n",
    "                 with_leads=True, with_shell=True, with_vlead=True)\n",
    "\n",
    "params = dict(B_x=0, B_z=0, Delta=60, c_tunnel=5/8, V='lambda x: 0', T=50e-3, **funcs.constants.__dict__)\n",
    "\n",
    "Bs = np.linspace(-0.1, 0.1, 2)\n",
    "#Bs = [0]\n",
    "\n",
    "if ONLY_PAPER_COMBINATIONS:\n",
    "    # These are all the combinations of effects that are showed in Fig. 4 of the main paper.\n",
    "    vals = [[(0, 0, True, 50, 20, 10, B),\n",
    "             (0, 0, False, 50, 20, 10, B),\n",
    "             (0, 0, True, 50, 0, 10, B),\n",
    "             (0, 0, False, 50, 0, 10, B),\n",
    "             (0, 0, True, 50, 20, 20, B),\n",
    "             (0, 0, False, 50, 20, 20, B),\n",
    "             (0, 0, True, 50, 0, 20, B),\n",
    "             (0, 0, False, 50, 0, 20, B),\n",
    "             (7, 75, True, 50, 20, 20, B)]\n",
    "            for B in Bs]\n",
    "    vals = sum(vals, [])\n",
    "    names = ['salt', 'disorder', 'orbital', 'g', 'alphas', 'mu', 'B_x']\n",
    "    vals = [dict(zip(names, val)) for val in vals]\n",
    "\n",
    "else:\n",
    "    # Calculate all combinations of effects (which is much slower.)\n",
    "#    vals = funcs.named_product(salt=np.arange(0, 8, 1), disorder=[0, 75], \n",
    "#                               orbital=[False, True], g=[0, 50], alpha=[0, 20],\n",
    "#                               mu=[10, 20], B_x=Bs)\n",
    "\n",
    "    vals = funcs.named_product(salt=[0], disorder=[0], \n",
    "                               orbital=[True], g=[50], alpha=[0],#, 20],\n",
    "                               mu=[10], B_y=Bs)\n",
    "    # Filter out different salts when there is no disorder.\n",
    "    vals = [val for val in vals if not (val['salt'] > 0 and val['disorder'] == 0)]\n",
    "\n",
    "print(len(vals))\n",
    "\n",
    "def func(val, syst_pars=syst_pars, params=params):\n",
    "    import funcs\n",
    "    syst, hopping = funcs.make_3d_wire(**syst_pars)\n",
    "    \n",
    "    # Combine the fixed parameters `params` and the changing\n",
    "    # parameters `val` to one dict and evaluate the string\n",
    "    # lambda functions.\n",
    "    params = funcs.parse_params(dict(**params, **val))\n",
    "    \n",
    "    # Return a combined dictionary with the results and input.\n",
    "    return dict(**funcs.I_c(syst, hopping, params), **val)"
   ]
  },
  {
   "cell_type": "code",
   "execution_count": 14,
   "metadata": {},
   "outputs": [
    {
     "data": {
      "image/png": "[encoded data removed]",
      "text/plain": [
       "<matplotlib.figure.Figure at 0x7ff769b5c7f0>"
      ]
     },
     "metadata": {
      "needs_background": "light"
     },
     "output_type": "display_data"
    }
   ],
   "source": [
    "syst, hopping = funcs.make_3d_wire(**syst_pars)\n",
    "kwant.plot(syst);"
   ]
  },
  {
   "cell_type": "code",
   "execution_count": null,
   "metadata": {},
   "outputs": [
    {
     "name": "stdout",
     "output_type": "stream",
     "text": [
      "   0/2 tasks finished after  291 s"
     ]
    }
   ],
   "source": [
    "fname_i = \"tmp/I_c(B_x)_mu_10,20meV_disorder0meV_T0.05K_orbital_SOI_ZeemanY.hdf\"\n",
    "funcs.run_simulation(lview, func, vals, dict(**params, **syst_pars), fname_i, 100)"
   ]
  },
  {
   "cell_type": "code",
   "execution_count": 12,
   "metadata": {},
   "outputs": [
    {
     "ename": "ModuleNotFoundError",
     "evalue": "No module named 'git'",
     "output_type": "error",
     "traceback": [
      "\u001b[0;31m---------------------------------------------------------------------------\u001b[0m",
      "\u001b[0;31mModuleNotFoundError\u001b[0m                       Traceback (most recent call last)",
      "\u001b[0;32m<ipython-input-12-99021728f681>\u001b[0m in \u001b[0;36m<module>\u001b[0;34m\u001b[0m\n\u001b[0;32m----> 1\u001b[0;31m \u001b[0;32mimport\u001b[0m \u001b[0mgit\u001b[0m\u001b[0;34m\u001b[0m\u001b[0;34m\u001b[0m\u001b[0m\n\u001b[0m",
      "\u001b[0;31mModuleNotFoundError\u001b[0m: No module named 'git'"
     ]
    }
   ],
   "source": []
  },
  {
   "cell_type": "markdown",
   "metadata": {},
   "source": [
    "# Rotation of the magnetic field in the $xy$-plane\n",
    "* Supplementary materials figure 10"
   ]
  },
  {
   "cell_type": "markdown",
   "metadata": {},
   "source": [
    "![](https://upload.wikimedia.org/wikipedia/commons/thumb/4/4f/3D_Spherical.svg/200px-3D_Spherical.svg.png)"
   ]
  },
  {
   "cell_type": "code",
   "execution_count": 20,
   "metadata": {},
   "outputs": [
    {
     "ename": "NameError",
     "evalue": "name 'lview' is not defined",
     "output_type": "error",
     "traceback": [
      "\u001b[0;31m---------------------------------------------------------------------------\u001b[0m",
      "\u001b[0;31mNameError\u001b[0m                                 Traceback (most recent call last)",
      "\u001b[0;32m<ipython-input-20-73620a439c27>\u001b[0m in \u001b[0;36m<module>\u001b[0;34m\u001b[0m\n\u001b[1;32m     28\u001b[0m \u001b[0;34m\u001b[0m\u001b[0m\n\u001b[1;32m     29\u001b[0m \u001b[0mfname\u001b[0m \u001b[0;34m=\u001b[0m \u001b[0;34m'data/I_c(B_x)_mu20meV_rotation_of_field_in_xy_plane.hdf'\u001b[0m\u001b[0;34m\u001b[0m\u001b[0;34m\u001b[0m\u001b[0m\n\u001b[0;32m---> 30\u001b[0;31m \u001b[0mfuncs\u001b[0m\u001b[0;34m.\u001b[0m\u001b[0mrun_simulation\u001b[0m\u001b[0;34m(\u001b[0m\u001b[0mlview\u001b[0m\u001b[0;34m,\u001b[0m \u001b[0mfunc\u001b[0m\u001b[0;34m,\u001b[0m \u001b[0mvals\u001b[0m\u001b[0;34m,\u001b[0m \u001b[0mdict\u001b[0m\u001b[0;34m(\u001b[0m\u001b[0;34m**\u001b[0m\u001b[0msyst_pars\u001b[0m\u001b[0;34m,\u001b[0m \u001b[0;34m**\u001b[0m\u001b[0mparams\u001b[0m\u001b[0;34m)\u001b[0m\u001b[0;34m,\u001b[0m \u001b[0mfname\u001b[0m\u001b[0;34m,\u001b[0m \u001b[0;32mNone\u001b[0m\u001b[0;34m,\u001b[0m \u001b[0moverwrite\u001b[0m\u001b[0;34m=\u001b[0m\u001b[0;32mTrue\u001b[0m\u001b[0;34m)\u001b[0m\u001b[0;34m\u001b[0m\u001b[0;34m\u001b[0m\u001b[0m\n\u001b[0m",
      "\u001b[0;31mNameError\u001b[0m: name 'lview' is not defined"
     ]
    }
   ],
   "source": [
    "syst_pars = dict(a=8, angle=0, site_disorder=True, holes=True, L=160, L_sc=8,\n",
    "                 phi=135, r1=50, r2=70, shape='circle',\n",
    "                 with_leads=True, with_shell=True, with_vlead=True)\n",
    "\n",
    "params = dict(alpha=20, B_z=0, Delta=60, g=50, mu=20, salt=7,\n",
    "              orbital=True, c_tunnel=5/8, V='lambda x: 0', T=100e-3, **funcs.constants.__dict__)\n",
    "\n",
    "Bs = np.linspace(0, 2, 101)\n",
    "thetas = [0, 45, 90]\n",
    "vals = funcs.named_product(B=Bs, theta=thetas, disorder=[0, 75])\n",
    "\n",
    "def func(val, syst_pars=syst_pars, params=params):\n",
    "    import funcs\n",
    "    import numpy as np\n",
    "    angle = np.deg2rad(val['theta'])\n",
    "    val['B_x'] = val['B'] * np.cos(angle).round(15)\n",
    "    val['B_y'] = val['B'] * np.sin(angle).round(15)\n",
    "    \n",
    "    # Combine the fixed parameters `params` and the changing\n",
    "    # parameters `val` to one dict and evaluate the string\n",
    "    # lambda functions.\n",
    "    params = funcs.parse_params(dict(**params, **val))\n",
    "\n",
    "    syst, hopping = funcs.make_3d_wire(**syst_pars)\n",
    "\n",
    "    # Return a combined dictionary with the results and input.\n",
    "    return dict(**funcs.I_c(syst, hopping, params), **val)\n",
    "\n",
    "fname = 'data/I_c(B_x)_mu20meV_rotation_of_field_in_xy_plane.hdf'\n",
    "funcs.run_simulation(lview, func, vals, dict(**syst_pars, **params), fname, None, overwrite=True)"
   ]
  },
  {
   "cell_type": "markdown",
   "metadata": {},
   "source": [
    "# Tuning the induced gap"
   ]
  },
  {
   "cell_type": "code",
   "execution_count": 21,
   "metadata": {},
   "outputs": [
    {
     "ename": "NameError",
     "evalue": "name 'lview' is not defined",
     "output_type": "error",
     "traceback": [
      "\u001b[0;31m---------------------------------------------------------------------------\u001b[0m",
      "\u001b[0;31mNameError\u001b[0m                                 Traceback (most recent call last)",
      "\u001b[0;32m<ipython-input-21-8612e790cb03>\u001b[0m in \u001b[0;36m<module>\u001b[0;34m\u001b[0m\n\u001b[1;32m     32\u001b[0m     \u001b[0;32mreturn\u001b[0m \u001b[0mdict\u001b[0m\u001b[0;34m(\u001b[0m\u001b[0mE_min\u001b[0m\u001b[0;34m=\u001b[0m\u001b[0mnp\u001b[0m\u001b[0;34m.\u001b[0m\u001b[0mabs\u001b[0m\u001b[0;34m(\u001b[0m\u001b[0mev\u001b[0m\u001b[0;34m)\u001b[0m\u001b[0;34m.\u001b[0m\u001b[0mmin\u001b[0m\u001b[0;34m(\u001b[0m\u001b[0;34m)\u001b[0m\u001b[0;34m,\u001b[0m \u001b[0;34m**\u001b[0m\u001b[0mval\u001b[0m\u001b[0;34m)\u001b[0m\u001b[0;34m\u001b[0m\u001b[0;34m\u001b[0m\u001b[0m\n\u001b[1;32m     33\u001b[0m \u001b[0;34m\u001b[0m\u001b[0m\n\u001b[0;32m---> 34\u001b[0;31m \u001b[0mfuncs\u001b[0m\u001b[0;34m.\u001b[0m\u001b[0mrun_simulation\u001b[0m\u001b[0;34m(\u001b[0m\u001b[0mlview\u001b[0m\u001b[0;34m,\u001b[0m \u001b[0mfunc\u001b[0m\u001b[0;34m,\u001b[0m \u001b[0mvals\u001b[0m\u001b[0;34m,\u001b[0m \u001b[0mdict\u001b[0m\u001b[0;34m(\u001b[0m\u001b[0;34m**\u001b[0m\u001b[0mparams\u001b[0m\u001b[0;34m,\u001b[0m \u001b[0;34m**\u001b[0m\u001b[0msyst_pars\u001b[0m\u001b[0;34m)\u001b[0m\u001b[0;34m,\u001b[0m \u001b[0;34m'data/gap_tuning.hdf'\u001b[0m\u001b[0;34m)\u001b[0m\u001b[0;34m\u001b[0m\u001b[0;34m\u001b[0m\u001b[0m\n\u001b[0m",
      "\u001b[0;31mNameError\u001b[0m: name 'lview' is not defined"
     ]
    }
   ],
   "source": [
    "syst_pars = dict(a=8, angle=0, site_disorder=False, holes=True,\n",
    "                 L=80, L_sc=8, phi=135, r1=50, r2=70, shape='circle',\n",
    "                 with_leads=True, with_shell=True, with_vlead=False)\n",
    "\n",
    "params = dict(alpha=20, B_x=0, B_y=0, B_z=0, g=50, orbital=True,\n",
    "              c_tunnel=5/8, V='lambda x: 0', **funcs.constants.__dict__,)\n",
    "\n",
    "mus = np.linspace(2, 30, 50)\n",
    "Deltas = np.linspace(0, 100, 50)\n",
    "\n",
    "vals = funcs.named_product(Delta=Deltas, mu=mus)\n",
    "\n",
    "def func(val, syst_pars=syst_pars, params=params):\n",
    "    import funcs\n",
    "    import numpy as np\n",
    "    lead = funcs.make_3d_wire(**syst_pars)[0].leads[1]\n",
    "\n",
    "    # Combine the fixed parameters `params` and the changing\n",
    "    # parameters `val` to one dict and evaluate the string\n",
    "    # lambda functions.\n",
    "    params = funcs.parse_params(dict(**params, **val))\n",
    "\n",
    "    # Create the Hamiltonian `ham` at k=0.\n",
    "    h0 = lead.cell_hamiltonian(params=params)\n",
    "    t0 = lead.inter_cell_hopping(params=params)\n",
    "    ham = h0 + t0 + t0.conj().T\n",
    "\n",
    "    # Find the energies.\n",
    "    ev = np.linalg.eigvalsh(ham)\n",
    "    \n",
    "    # Return a combined dictionary with the results and input.\n",
    "    return dict(E_min=np.abs(ev).min(), **val)\n",
    "\n",
    "funcs.run_simulation(lview, func, vals, dict(**params, **syst_pars), 'data/gap_tuning.hdf')"
   ]
  },
  {
   "cell_type": "code",
   "execution_count": 22,
   "metadata": {},
   "outputs": [
    {
     "ename": "FileNotFoundError",
     "evalue": "File data/gap_tuning.hdf does not exist",
     "output_type": "error",
     "traceback": [
      "\u001b[0;31m---------------------------------------------------------------------------\u001b[0m",
      "\u001b[0;31mFileNotFoundError\u001b[0m                         Traceback (most recent call last)",
      "\u001b[0;32m<ipython-input-22-ec4b9ea9e523>\u001b[0m in \u001b[0;36m<module>\u001b[0;34m\u001b[0m\n\u001b[1;32m      1\u001b[0m \u001b[0;31m# Plot the gaps and find the `Delta` that is needed for the required `Delta_induced`.\u001b[0m\u001b[0;34m\u001b[0m\u001b[0;34m\u001b[0m\u001b[0;34m\u001b[0m\u001b[0m\n\u001b[0;32m----> 2\u001b[0;31m \u001b[0mdf\u001b[0m \u001b[0;34m=\u001b[0m \u001b[0mpd\u001b[0m\u001b[0;34m.\u001b[0m\u001b[0mread_hdf\u001b[0m\u001b[0;34m(\u001b[0m\u001b[0;34m'data/gap_tuning.hdf'\u001b[0m\u001b[0;34m)\u001b[0m\u001b[0;34m\u001b[0m\u001b[0;34m\u001b[0m\u001b[0m\n\u001b[0m\u001b[1;32m      3\u001b[0m \u001b[0mDeltas\u001b[0m \u001b[0;34m=\u001b[0m \u001b[0msorted\u001b[0m\u001b[0;34m(\u001b[0m\u001b[0mdf\u001b[0m\u001b[0;34m.\u001b[0m\u001b[0mDelta\u001b[0m\u001b[0;34m.\u001b[0m\u001b[0munique\u001b[0m\u001b[0;34m(\u001b[0m\u001b[0;34m)\u001b[0m\u001b[0;34m)\u001b[0m\u001b[0;34m\u001b[0m\u001b[0;34m\u001b[0m\u001b[0m\n\u001b[1;32m      4\u001b[0m \u001b[0mmus\u001b[0m \u001b[0;34m=\u001b[0m \u001b[0msorted\u001b[0m\u001b[0;34m(\u001b[0m\u001b[0mdf\u001b[0m\u001b[0;34m.\u001b[0m\u001b[0mmu\u001b[0m\u001b[0;34m.\u001b[0m\u001b[0munique\u001b[0m\u001b[0;34m(\u001b[0m\u001b[0;34m)\u001b[0m\u001b[0;34m)\u001b[0m\u001b[0;34m\u001b[0m\u001b[0;34m\u001b[0m\u001b[0m\n\u001b[1;32m      5\u001b[0m \u001b[0mgap\u001b[0m \u001b[0;34m=\u001b[0m \u001b[0mnp\u001b[0m\u001b[0;34m.\u001b[0m\u001b[0mreshape\u001b[0m\u001b[0;34m(\u001b[0m\u001b[0mdf\u001b[0m\u001b[0;34m.\u001b[0m\u001b[0mE_min\u001b[0m\u001b[0;34m.\u001b[0m\u001b[0mvalues\u001b[0m\u001b[0;34m,\u001b[0m \u001b[0;34m(\u001b[0m\u001b[0mlen\u001b[0m\u001b[0;34m(\u001b[0m\u001b[0mDeltas\u001b[0m\u001b[0;34m)\u001b[0m\u001b[0;34m,\u001b[0m \u001b[0mlen\u001b[0m\u001b[0;34m(\u001b[0m\u001b[0mmus\u001b[0m\u001b[0;34m)\u001b[0m\u001b[0;34m)\u001b[0m\u001b[0;34m)\u001b[0m\u001b[0;34m\u001b[0m\u001b[0;34m\u001b[0m\u001b[0m\n",
      "\u001b[0;32m~/anaconda3/envs/python3/lib/python3.6/site-packages/pandas/io/pytables.py\u001b[0m in \u001b[0;36mread_hdf\u001b[0;34m(path_or_buf, key, mode, **kwargs)\u001b[0m\n\u001b[1;32m    336\u001b[0m         \u001b[0;32mif\u001b[0m \u001b[0;32mnot\u001b[0m \u001b[0mexists\u001b[0m\u001b[0;34m:\u001b[0m\u001b[0;34m\u001b[0m\u001b[0;34m\u001b[0m\u001b[0m\n\u001b[1;32m    337\u001b[0m             raise compat.FileNotFoundError(\n\u001b[0;32m--> 338\u001b[0;31m                 'File %s does not exist' % path_or_buf)\n\u001b[0m\u001b[1;32m    339\u001b[0m \u001b[0;34m\u001b[0m\u001b[0m\n\u001b[1;32m    340\u001b[0m         \u001b[0mstore\u001b[0m \u001b[0;34m=\u001b[0m \u001b[0mHDFStore\u001b[0m\u001b[0;34m(\u001b[0m\u001b[0mpath_or_buf\u001b[0m\u001b[0;34m,\u001b[0m \u001b[0mmode\u001b[0m\u001b[0;34m=\u001b[0m\u001b[0mmode\u001b[0m\u001b[0;34m,\u001b[0m \u001b[0;34m**\u001b[0m\u001b[0mkwargs\u001b[0m\u001b[0;34m)\u001b[0m\u001b[0;34m\u001b[0m\u001b[0;34m\u001b[0m\u001b[0m\n",
      "\u001b[0;31mFileNotFoundError\u001b[0m: File data/gap_tuning.hdf does not exist"
     ]
    }
   ],
   "source": [
    "# Plot the gaps and find the `Delta` that is needed for the required `Delta_induced`.\n",
    "df = pd.read_hdf('data/gap_tuning.hdf')\n",
    "Deltas = sorted(df.Delta.unique())\n",
    "mus = sorted(df.mu.unique())\n",
    "gap = np.reshape(df.E_min.values, (len(Deltas), len(mus))) \n",
    "max_gap = np.max(np.min(gap, axis=1))\n",
    "print(\"Max gap is {} meV\".format(max_gap))"
   ]
  },
  {
   "cell_type": "code",
   "execution_count": 23,
   "metadata": {},
   "outputs": [
    {
     "ename": "NameError",
     "evalue": "name 'gap' is not defined",
     "output_type": "error",
     "traceback": [
      "\u001b[0;31m---------------------------------------------------------------------------\u001b[0m",
      "\u001b[0;31mNameError\u001b[0m                                 Traceback (most recent call last)",
      "\u001b[0;32m<ipython-input-23-fcf534066178>\u001b[0m in \u001b[0;36m<module>\u001b[0;34m\u001b[0m\n\u001b[0;32m----> 1\u001b[0;31m hv.Curve((Deltas, gap.min(axis=1)), kdims=[r'$\\Delta$'], vdims=[r'$E_{gap}$'],\n\u001b[0m\u001b[1;32m      2\u001b[0m          label=r\"$E_{gap}$ over range of $\\Delta$'s\")\n",
      "\u001b[0;31mNameError\u001b[0m: name 'gap' is not defined"
     ]
    }
   ],
   "source": [
    "hv.Curve((Deltas, gap.min(axis=1)), kdims=[r'$\\Delta$'], vdims=[r'$E_{gap}$'],\n",
    "         label=r\"$E_{gap}$ over range of $\\Delta$'s\")"
   ]
  },
  {
   "cell_type": "code",
   "execution_count": 24,
   "metadata": {},
   "outputs": [
    {
     "ename": "NameError",
     "evalue": "name 'gap' is not defined",
     "output_type": "error",
     "traceback": [
      "\u001b[0;31m---------------------------------------------------------------------------\u001b[0m",
      "\u001b[0;31mNameError\u001b[0m                                 Traceback (most recent call last)",
      "\u001b[0;32m<ipython-input-24-5191078a27bd>\u001b[0m in \u001b[0;36m<module>\u001b[0;34m\u001b[0m\n\u001b[1;32m      1\u001b[0m Delta_ind = {delta: hv.Path((mus, evs), kdims=[r'$\\mu$', ('E_gap', r'$E_{gap}$')]) \n\u001b[0;32m----> 2\u001b[0;31m       for evs, delta in zip(gap, Deltas)}\n\u001b[0m\u001b[1;32m      3\u001b[0m \u001b[0;34m\u001b[0m\u001b[0m\n\u001b[1;32m      4\u001b[0m \u001b[0mhm\u001b[0m \u001b[0;34m=\u001b[0m \u001b[0mhv\u001b[0m\u001b[0;34m.\u001b[0m\u001b[0mHoloMap\u001b[0m\u001b[0;34m(\u001b[0m\u001b[0mDelta_ind\u001b[0m\u001b[0;34m,\u001b[0m \u001b[0mkdims\u001b[0m\u001b[0;34m=\u001b[0m\u001b[0;34m[\u001b[0m\u001b[0;34mr'$\\Delta$'\u001b[0m\u001b[0;34m]\u001b[0m\u001b[0;34m)\u001b[0m\u001b[0;34m\u001b[0m\u001b[0;34m\u001b[0m\u001b[0m\n\u001b[1;32m      5\u001b[0m \u001b[0;34m(\u001b[0m\u001b[0mhm\u001b[0m\u001b[0;34m.\u001b[0m\u001b[0mselect\u001b[0m\u001b[0;34m(\u001b[0m\u001b[0mE_gap\u001b[0m\u001b[0;34m=\u001b[0m\u001b[0;34m(\u001b[0m\u001b[0;36m0.15\u001b[0m\u001b[0;34m,\u001b[0m \u001b[0;36m0.40\u001b[0m\u001b[0;34m)\u001b[0m\u001b[0;34m)\u001b[0m \u001b[0;34m*\u001b[0m \u001b[0mhv\u001b[0m\u001b[0;34m.\u001b[0m\u001b[0mHLine\u001b[0m\u001b[0;34m(\u001b[0m\u001b[0;36m0.25\u001b[0m\u001b[0;34m)\u001b[0m\u001b[0;34m)\u001b[0m\u001b[0;34m\u001b[0m\u001b[0;34m\u001b[0m\u001b[0m\n",
      "\u001b[0;31mNameError\u001b[0m: name 'gap' is not defined"
     ]
    }
   ],
   "source": [
    "Delta_ind = {delta: hv.Path((mus, evs), kdims=[r'$\\mu$', ('E_gap', r'$E_{gap}$')]) \n",
    "      for evs, delta in zip(gap, Deltas)}\n",
    "\n",
    "hm = hv.HoloMap(Delta_ind, kdims=[r'$\\Delta$'])\n",
    "(hm.select(E_gap=(0.15, 0.40)) * hv.HLine(0.25))"
   ]
  },
  {
   "cell_type": "markdown",
   "metadata": {},
   "source": [
    "## Gate simulation with and without disorder $I_c(B_x, V)$\n",
    "* Main paper figure 5(b)\n",
    "* Supplementary materials figure 9"
   ]
  },
  {
   "cell_type": "code",
   "execution_count": 25,
   "metadata": {
    "scrolled": true
   },
   "outputs": [
    {
     "data": {
      "image/png": "[encoded data removed]",
      "text/plain": [
       "<Figure size 432x288 with 1 Axes>"
      ]
     },
     "metadata": {
      "needs_background": "light"
     },
     "output_type": "display_data"
    },
    {
     "data": {
      "image/png": "[encoded data removed]",
      "text/plain": [
       "<Figure size 432x288 with 1 Axes>"
      ]
     },
     "execution_count": 25,
     "metadata": {},
     "output_type": "execute_result"
    }
   ],
   "source": [
    "# Plot test\n",
    "syst_pars = dict(a=8, angle=0, site_disorder=False, holes=True,\n",
    "                 L=640, L_sc=8, phi=135, r1=50, r2=70, shape='circle',\n",
    "                 with_leads=True, with_shell=True, with_vlead=True)\n",
    "\n",
    "syst, hopping = funcs.make_3d_wire(**syst_pars)\n",
    "gate_fun = funcs.gate(syst, 100, 160)\n",
    "sites = [gate_fun(pos[0]) for pos in [i.pos for i in syst.sites]]\n",
    "kwant.plot(syst, site_lw=0, site_color=sites, colorbar=False)"
   ]
  },
  {
   "cell_type": "code",
   "execution_count": 26,
   "metadata": {},
   "outputs": [
    {
     "ename": "NameError",
     "evalue": "name 'lview' is not defined",
     "output_type": "error",
     "traceback": [
      "\u001b[0;31m---------------------------------------------------------------------------\u001b[0m",
      "\u001b[0;31mNameError\u001b[0m                                 Traceback (most recent call last)",
      "\u001b[0;32m<ipython-input-26-66af45872acf>\u001b[0m in \u001b[0;36m<module>\u001b[0;34m\u001b[0m\n\u001b[1;32m     30\u001b[0m \u001b[0;34m\u001b[0m\u001b[0m\n\u001b[1;32m     31\u001b[0m \u001b[0mfname\u001b[0m \u001b[0;34m=\u001b[0m \u001b[0;34m\"tmp/I_c(B_x,_V)_gate160nm_mu20meV_disorder0,75meV_T0.1K_{}.hdf\"\u001b[0m\u001b[0;34m\u001b[0m\u001b[0;34m\u001b[0m\u001b[0m\n\u001b[0;32m---> 32\u001b[0;31m \u001b[0mfuncs\u001b[0m\u001b[0;34m.\u001b[0m\u001b[0mrun_simulation\u001b[0m\u001b[0;34m(\u001b[0m\u001b[0mlview\u001b[0m\u001b[0;34m,\u001b[0m \u001b[0mfunc\u001b[0m\u001b[0;34m,\u001b[0m \u001b[0mvals\u001b[0m\u001b[0;34m,\u001b[0m \u001b[0mdict\u001b[0m\u001b[0;34m(\u001b[0m\u001b[0;34m**\u001b[0m\u001b[0mparams\u001b[0m\u001b[0;34m,\u001b[0m \u001b[0;34m**\u001b[0m\u001b[0msyst_pars\u001b[0m\u001b[0;34m)\u001b[0m\u001b[0;34m,\u001b[0m \u001b[0mfname\u001b[0m\u001b[0;34m,\u001b[0m \u001b[0;36m2500\u001b[0m\u001b[0;34m)\u001b[0m\u001b[0;34m\u001b[0m\u001b[0;34m\u001b[0m\u001b[0m\n\u001b[0m",
      "\u001b[0;31mNameError\u001b[0m: name 'lview' is not defined"
     ]
    }
   ],
   "source": [
    "syst_pars = dict(a=8, angle=0, site_disorder=True, holes=True,\n",
    "                 L=640, L_sc=8, phi=135, r1=50, r2=70, shape='circle',\n",
    "                 with_leads=True, with_shell=True, with_vlead=True)\n",
    "\n",
    "params = dict(alpha=20, B_y=0, B_z=0, Delta=60, g=50, mu=20, orbital=True,\n",
    "              c_tunnel=5/8, salt=7, T=100e-3, **funcs.constants.__dict__)\n",
    "\n",
    "Bs = np.linspace(0, 0.5, 51)\n",
    "Vs = np.linspace(0, 10, 51)\n",
    "gate_sizes = [160]\n",
    "disorders = [0, 75]\n",
    "\n",
    "vals = funcs.named_product(gate_size=gate_sizes,\n",
    "                           disorder=disorders, V=Vs, B_x=Bs)\n",
    "\n",
    "def func(val, syst_pars=syst_pars, params=params):\n",
    "    import funcs\n",
    "    syst, hopping = funcs.make_3d_wire(**syst_pars)\n",
    "\n",
    "    # Combine the fixed parameters `params` and the changing\n",
    "    # parameters `val` to one dict and evaluate the string\n",
    "    # lambda functions.\n",
    "    params = funcs.parse_params(dict(**params, **val))\n",
    "\n",
    "    # Create a potential function for the gate.\n",
    "    params['V'] = funcs.gate(syst, params['V'], params['gate_size'])\n",
    "\n",
    "    # Return a combined dictionary with the results and input.\n",
    "    return dict(**funcs.I_c(syst, hopping, params), **val)\n",
    "\n",
    "fname = \"tmp/I_c(B_x,_V)_gate160nm_mu20meV_disorder0,75meV_T0.1K_{}.hdf\"\n",
    "funcs.run_simulation(lview, func, vals, dict(**params, **syst_pars), fname, 2500)"
   ]
  },
  {
   "cell_type": "markdown",
   "metadata": {},
   "source": [
    "# 1D toymodel $I_c(\\alpha, B_x)$\n",
    "Supplementary materials figure 7"
   ]
  },
  {
   "cell_type": "code",
   "execution_count": 27,
   "metadata": {},
   "outputs": [
    {
     "ename": "NameError",
     "evalue": "name 'lview' is not defined",
     "output_type": "error",
     "traceback": [
      "\u001b[0;31m---------------------------------------------------------------------------\u001b[0m",
      "\u001b[0;31mNameError\u001b[0m                                 Traceback (most recent call last)",
      "\u001b[0;32m<ipython-input-27-bdf334d4dd16>\u001b[0m in \u001b[0;36m<module>\u001b[0;34m\u001b[0m\n\u001b[1;32m     22\u001b[0m     \u001b[0;32mreturn\u001b[0m \u001b[0mdict\u001b[0m\u001b[0;34m(\u001b[0m\u001b[0;34m**\u001b[0m\u001b[0mfuncs\u001b[0m\u001b[0;34m.\u001b[0m\u001b[0mI_c\u001b[0m\u001b[0;34m(\u001b[0m\u001b[0msyst\u001b[0m\u001b[0;34m,\u001b[0m \u001b[0mhopping\u001b[0m\u001b[0;34m,\u001b[0m \u001b[0mparams\u001b[0m\u001b[0;34m)\u001b[0m\u001b[0;34m,\u001b[0m \u001b[0;34m**\u001b[0m\u001b[0mval\u001b[0m\u001b[0;34m)\u001b[0m\u001b[0;34m\u001b[0m\u001b[0;34m\u001b[0m\u001b[0m\n\u001b[1;32m     23\u001b[0m \u001b[0;34m\u001b[0m\u001b[0m\n\u001b[0;32m---> 24\u001b[0;31m funcs.run_simulation(lview, func, vals, dict(**params, **syst_pars),\n\u001b[0m\u001b[1;32m     25\u001b[0m                      'tmp/1d_alpha_vs_B_x_{}.hdf', N=20000, overwrite=True)\n",
      "\u001b[0;31mNameError\u001b[0m: name 'lview' is not defined"
     ]
    }
   ],
   "source": [
    "syst_pars = dict(a=10, L=500, L_sc=100)\n",
    "\n",
    "params = dict(B_y=0, B_z=0, Delta=0.25, g=50, V='lambda x: 0', T=0.1,\n",
    "              **funcs.constants.__dict__)\n",
    "\n",
    "alphas = np.linspace(0, 30, 101)\n",
    "B_xs = np.linspace(0, 1.4, 101)\n",
    "mus = [0.1, 0.3, 1, 3, 10, 30]\n",
    "\n",
    "vals = funcs.named_product(alpha=alphas, B_x=B_xs, mu=mus)\n",
    "\n",
    "def func(val, syst_pars=syst_pars, params=params):\n",
    "    import funcs\n",
    "    syst, hopping = funcs.make_1d_wire(**syst_pars)\n",
    "\n",
    "    # Combine the fixed parameters `params` and the changing\n",
    "    # parameters `val` to one dict and evaluate the string\n",
    "    # lambda functions.\n",
    "    params = funcs.parse_params(dict(**params, **val))\n",
    "\n",
    "    # Return a combined dictionary with the results and input.\n",
    "    return dict(**funcs.I_c(syst, hopping, params), **val)\n",
    "\n",
    "funcs.run_simulation(lview, func, vals, dict(**params, **syst_pars),\n",
    "                     'tmp/1d_alpha_vs_B_x_{}.hdf', N=20000, overwrite=True)"
   ]
  },
  {
   "cell_type": "code",
   "execution_count": null,
   "metadata": {},
   "outputs": [],
   "source": []
  }
 ],
 "metadata": {
  "anaconda-cloud": {},
  "kernelspec": {
   "display_name": "Python 3",
   "language": "python",
   "name": "python3"
  },
  "language_info": {
   "codemirror_mode": {
    "name": "ipython",
    "version": 3
   },
   "file_extension": ".py",
   "mimetype": "text/x-python",
   "name": "python",
   "nbconvert_exporter": "python",
   "pygments_lexer": "ipython3",
   "version": "3.6.10"
  }
 },
 "nbformat": 4,
 "nbformat_minor": 4
}

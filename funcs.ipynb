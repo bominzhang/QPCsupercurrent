{
 "cells": [
  {
   "cell_type": "code",
   "execution_count": 4,
   "metadata": {},
   "outputs": [],
   "source": [
    "from copy import deepcopy\n",
    "from functools import lru_cache\n",
    "from glob import glob\n",
    "import operator\n",
    "import subprocess\n",
    "import types"
   ]
  },
  {
   "cell_type": "code",
   "execution_count": 5,
   "metadata": {},
   "outputs": [],
   "source": [
    "import kwant\n",
    "from kwant.continuum import discretize\n",
    "from kwant.digest import uniform\n",
    "import numpy as np\n",
    "import pandas as pd\n",
    "import scipy.constants\n",
    "import scipy.optimize"
   ]
  },
  {
   "cell_type": "code",
   "execution_count": 6,
   "metadata": {},
   "outputs": [],
   "source": [
    "from combine import combine\n",
    "from common import *"
   ]
  },
  {
   "cell_type": "markdown",
   "metadata": {},
   "source": [
    "#### Define all the constant using numbers giving in scipy\n",
    "###### Parameters taken from arXiv:1204.2792\n",
    "###### All constant parameters, mostly fundamental constants, in a types.SimpleNamespace."
   ]
  },
  {
   "cell_type": "code",
   "execution_count": 7,
   "metadata": {},
   "outputs": [],
   "source": [
    "constants = types.SimpleNamespace(\n",
    "    m_eff=0.015 * scipy.constants.m_e,  # effective mass in kg\n",
    "    hbar=scipy.constants.hbar,\n",
    "    m_e=scipy.constants.m_e,\n",
    "    eV=scipy.constants.eV,\n",
    "    e=scipy.constants.e,\n",
    "    meV=scipy.constants.eV * 1e-3,\n",
    "    k=scipy.constants.k / (scipy.constants.eV * 1e-3),\n",
    "    current_unit=scipy.constants.k * scipy.constants.e / scipy.constants.hbar * 1e9,  # to get nA\n",
    "    mu_B=scipy.constants.physical_constants['Bohr magneton'][0] / (scipy.constants.eV * 1e-3),\n",
    "    t=scipy.constants.hbar**2 / (2 * 0.015 * scipy.constants.m_e) / (scipy.constants.eV * 1e-3 * 1e-18),\n",
    "    c=1e18 / (scipy.constants.eV * 1e-3))"
   ]
  },
  {
   "cell_type": "markdown",
   "metadata": {},
   "source": [
    "define the position of gate:start point, mid point, left and right side of gate,return lambda if in gate position"
   ]
  },
  {
   "cell_type": "code",
   "execution_count": 8,
   "metadata": {},
   "outputs": [],
   "source": [
    "def gate(syst, V, gate_size):\n",
    "    x_positions = sorted(set(i.pos[0] for i in syst.sites))\n",
    "    x_mid = (max(x_positions) - min(x_positions)) / 2\n",
    "    x_L = find_nearest(x_positions, x_mid - gate_size / 2)\n",
    "    x_R = find_nearest(x_positions, x_mid + gate_size / 2)\n",
    "    return lambda x: V if x > x_L and x <= x_R else 0"
   ]
  },
  {
   "cell_type": "markdown",
   "metadata": {},
   "source": [
    "###### Functions related to calculating the supercurrent."
   ]
  },
  {
   "cell_type": "markdown",
   "metadata": {},
   "source": [
    "define the position of cut to check the wavefunction"
   ]
  },
  {
   "cell_type": "code",
   "execution_count": 49,
   "metadata": {},
   "outputs": [],
   "source": [
    "def get_cuts(syst, lat, x_left=0, x_right=1):\n",
    "    \"\"\"Get the sites at two postions of the specified cut coordinates.\n",
    "\n",
    "    Parameters\n",
    "    ----------\n",
    "    syst : kwant.builder.FiniteSystem\n",
    "        The finilized kwant system.\n",
    "    lat : dict\n",
    "        A container that is used to store Hamiltonian parameters.\n",
    "    \"\"\"\n",
    "    l_cut = [lat(*tag) for tag in [s.tag for s in syst.sites()] if tag[0] == x_left]\n",
    "    r_cut = [lat(*tag) for tag in [s.tag for s in syst.sites()] if tag[0] == x_right]\n",
    "    assert len(l_cut) == len(r_cut), \"x_left and x_right use site.tag not site.pos!\"\n",
    "    return l_cut, r_cut"
   ]
  },
  {
   "cell_type": "markdown",
   "metadata": {},
   "source": [
    "through self energy lead function, add the value of V lead at possition"
   ]
  },
  {
   "cell_type": "code",
   "execution_count": 47,
   "metadata": {},
   "outputs": [],
   "source": [
    "def add_vlead(syst, lat, l_cut, r_cut):\n",
    "    dim = lat.norbs * (len(l_cut) + len(r_cut))\n",
    "    vlead = kwant.builder.SelfEnergyLead(lambda energy, args: np.zeros((dim, dim)), l_cut + r_cut)\n",
    "    syst.lead.append(vlead)\n",
    "    return syst"
   ]
  },
  {
   "cell_type": "markdown",
   "metadata": {},
   "source": [
    "using previous defined hamiltonian matrix to get how electron hopping between cuts"
   ]
  },
  {
   "cell_type": "code",
   "execution_count": 11,
   "metadata": {},
   "outputs": [],
   "source": [
    "def hopping_between_cuts(syst, r_cut, l_cut):\n",
    "    r_cut_sites = [syst.sites.index(site) for site in r_cut]\n",
    "    l_cut_sites = [syst.sites.index(site) for site in l_cut]\n",
    "\n",
    "    def hopping(syst, params):\n",
    "        return syst.hamiltonian_submatrix(params=params,\n",
    "                                          to_sites=l_cut_sites,\n",
    "                                          from_sites=r_cut_sites)[::2, ::2]\n",
    "    return hopping"
   ]
  },
  {
   "cell_type": "markdown",
   "metadata": {},
   "source": [
    "define the matsubara frequency, commonly used in field theory in condensed matter physics"
   ]
  },
  {
   "cell_type": "code",
   "execution_count": 12,
   "metadata": {},
   "outputs": [],
   "source": [
    "def matsubara_frequency(n, params):\n",
    "    \"\"\"n-th fermionic Matsubara frequency at temperature T.\n",
    "\n",
    "    Parameters\n",
    "    ----------\n",
    "    n : int\n",
    "        n-th Matsubara frequency\n",
    "\n",
    "    Returns\n",
    "    -------\n",
    "    float\n",
    "        Imaginary energy.\n",
    "    \"\"\"\n",
    "    return (2*n + 1) * np.pi * params['k'] * params['T'] * 1j"
   ]
  },
  {
   "cell_type": "markdown",
   "metadata": {},
   "source": [
    "###### Return the Hamiltonian (inverse of the Green's function) of the electron part at zero phase.\n",
    "###### get matsubara frequency first\n",
    "###### then use kwant green function to solve for the system and get a mtrix\n",
    "###### return the inverse of such matrix"
   ]
  },
  {
   "cell_type": "code",
   "execution_count": 13,
   "metadata": {},
   "outputs": [],
   "source": [
    "def null_H(syst, params, n):\n",
    "    \"\"\"Return the Hamiltonian (inverse of the Green's function) of\n",
    "    the electron part at zero phase.\n",
    "\n",
    "    Parameters\n",
    "    ----------\n",
    "    syst : kwant.builder.FiniteSystem\n",
    "        The finilized kwant system.\n",
    "    params : dict\n",
    "        A container that is used to store Hamiltonian parameters.\n",
    "    n : int\n",
    "        n-th Matsubara frequency\n",
    "\n",
    "    Returns\n",
    "    -------\n",
    "    numpy.array\n",
    "        The Hamiltonian at zero energy and zero phase.\"\"\"\n",
    "    en = matsubara_frequency(n, params)\n",
    "    gf = kwant.greens_function(syst, en, out_leads=[0], in_leads=[0],\n",
    "                               check_hermiticity=False, params=params)\n",
    "    return np.linalg.inv(gf.data[::2, ::2])"
   ]
  },
  {
   "cell_type": "markdown",
   "metadata": {},
   "source": [
    "Returns the Green's function at a phase that is defined inside `t`"
   ]
  },
  {
   "cell_type": "code",
   "execution_count": 14,
   "metadata": {},
   "outputs": [],
   "source": [
    "def gf_from_H_0(H_0, t):\n",
    "    \"\"\"Returns the Green's function at a phase that is defined inside `t`.\n",
    "    See doc-string of `current_from_H_0`.\n",
    "    \"\"\"\n",
    "    H = np.copy(H_0)\n",
    "    dim = t.shape[0]\n",
    "    H[:dim, dim:] -= t.T.conj()\n",
    "    H[dim:, :dim] -= t\n",
    "    return np.linalg.inv(H)"
   ]
  },
  {
   "cell_type": "markdown",
   "metadata": {},
   "source": [
    "Uses Dyson’s equation to obtain the Hamiltonian for other values of `phase` without further inversions (calling `null_H`)"
   ]
  },
  {
   "cell_type": "code",
   "execution_count": 15,
   "metadata": {},
   "outputs": [],
   "source": [
    "def current_from_H_0(H_0_cache, H12, phase, params):\n",
    "    \"\"\"Uses Dyson’s equation to obtain the Hamiltonian for other\n",
    "    values of `phase` without further inversions (calling `null_H`).\n",
    "\n",
    "    Parameters\n",
    "    ----------\n",
    "    H_0_cache : list\n",
    "        Hamiltonians at different imaginary energies.\n",
    "    H12 : numpy array\n",
    "        The hopping matrix between the two cross\n",
    "        sections of where the SelfEnergyLead is attached.\n",
    "    phase : float\n",
    "        Phase at which the supercurrent is calculated.\n",
    "    params : dict\n",
    "        A container that is used to store Hamiltonian parameters.\n",
    "\n",
    "    Returns\n",
    "    -------\n",
    "    float\n",
    "        Total current of all terms in `H_0_list`.\n",
    "    \"\"\"\n",
    "    I = sum(current_contrib_from_H_0(H_0, H12, phase, params)\n",
    "            for H_0 in H_0_cache)\n",
    "    return I"
   ]
  },
  {
   "cell_type": "markdown",
   "metadata": {},
   "source": [
    "get H0, H12 for hopping, fun for supercurrent phase function, opt to find global minimum from such function"
   ]
  },
  {
   "cell_type": "code",
   "execution_count": 16,
   "metadata": {},
   "outputs": [],
   "source": [
    "def I_c_fixed_n(syst, hopping, params, matsfreqs=500, N_brute=30):\n",
    "    H_0_cache = [null_H(syst, params, n) for n in range(matsfreqs)]\n",
    "    H12 = hopping(syst, params)\n",
    "    fun = lambda phase: -current_from_H_0(H_0_cache, H12, phase, params)\n",
    "    opt = scipy.optimize.brute(\n",
    "        fun, ranges=[(-np.pi, np.pi)], Ns=N_brute, full_output=True)\n",
    "    x0, fval, grid, Jout = opt\n",
    "    return dict(phase_c=x0[0], current_c=-fval, phases=grid, currents=-Jout)"
   ]
  },
  {
   "cell_type": "markdown",
   "metadata": {},
   "source": [
    "Use previous defined Hamiltonian to obtian current phase"
   ]
  },
  {
   "cell_type": "code",
   "execution_count": 17,
   "metadata": {},
   "outputs": [],
   "source": [
    "def current_contrib_from_H_0(H_0, H12, phase, params):\n",
    "    \"\"\"Uses Dyson’s equation to obtain the Hamiltonian for other\n",
    "    values of `phase` without further inversions (calling `null_H`).\n",
    "\n",
    "    Parameters\n",
    "    ----------\n",
    "    H_0 : list\n",
    "        Hamiltonian at a certain imaginary energy.\n",
    "    H12 : numpy array\n",
    "        The hopping matrix between the two cross\n",
    "        sections of where the SelfEnergyLead is attached.\n",
    "    phase : float\n",
    "        Phase at which the supercurrent is calculated.\n",
    "    params : dict\n",
    "        A container that is used to store Hamiltonian parameters.\n",
    "    Returns\n",
    "    -------\n",
    "    float\n",
    "        Current contribution of `H_0`.\n",
    "    \"\"\"\n",
    "    t = H12 * np.exp(1j * phase)\n",
    "    gf = gf_from_H_0(H_0, t - H12)\n",
    "    dim = t.shape[0]\n",
    "    H12G21 = t.T.conj() @ gf[dim:, :dim]\n",
    "    H21G12 = t @ gf[:dim, dim:]\n",
    "    return -4 * params['T'] * params['current_unit'] * (\n",
    "        np.trace(H21G12) - np.trace(H12G21)).imag"
   ]
  },
  {
   "cell_type": "markdown",
   "metadata": {},
   "source": [
    "Find the supercurrent at a phase using a list of Hamiltonians at different imaginary energies (Matsubara frequencies). If this list does not contain enough Hamiltonians to converge, it automatically appends them at higher Matsubara frequencies untill the contribution is lower than `tol`, however, it cannot exceed `max_frequencies`"
   ]
  },
  {
   "cell_type": "code",
   "execution_count": 18,
   "metadata": {},
   "outputs": [],
   "source": [
    "def current_at_phase(syst, hopping, params, H_0_cache, phase,\n",
    "                     tol=1e-2, max_frequencies=500):\n",
    "    \"\"\"Find the supercurrent at a phase using a list of Hamiltonians at\n",
    "    different imaginary energies (Matsubara frequencies). If this list\n",
    "    does not contain enough Hamiltonians to converge, it automatically\n",
    "    appends them at higher Matsubara frequencies untill the contribution\n",
    "    is lower than `tol`, however, it cannot exceed `max_frequencies`.\n",
    "\n",
    "    Parameters\n",
    "    ----------\n",
    "    syst : kwant.builder.FiniteSystem\n",
    "        The finilized kwant system.\n",
    "    hopping : function\n",
    "        Function that returns the hopping matrix between the two cross sections\n",
    "        of where the SelfEnergyLead is attached.\n",
    "    params : dict\n",
    "        A container that is used to store Hamiltonian parameters.\n",
    "    H_0_cache : list\n",
    "        Hamiltonians at different imaginary energies.\n",
    "    phase : float, optional\n",
    "        Phase at which the supercurrent is calculated.\n",
    "    tol : float, optional\n",
    "        Tolerance of the `current_at_phase` function.\n",
    "    max_frequencies : int, optional\n",
    "        Maximum number of Matsubara frequencies.\n",
    "\n",
    "    Returns\n",
    "    -------\n",
    "    dict\n",
    "        Dictionary with the critical phase, critical current, and `currents`\n",
    "        evaluated at `phases`.\"\"\"\n",
    "\n",
    "    H12 = hopping(syst, params)\n",
    "    I = 0\n",
    "    for n in range(max_frequencies):\n",
    "        if len(H_0_cache) <= n:\n",
    "            H_0_cache.append(null_H(syst, params, n))\n",
    "        I_contrib = current_contrib_from_H_0(H_0_cache[n], H12, phase, params)\n",
    "        I += I_contrib\n",
    "        if I_contrib == 0 or tol is not None and abs(I_contrib / I) < tol:\n",
    "            return I\n",
    "    # Did not converge within tol using max_frequencies Matsubara frequencies.\n",
    "    if tol is not None:\n",
    "        return np.nan\n",
    "    # if tol is None, return the value after max_frequencies is reached.\n",
    "    else:\n",
    "        return I"
   ]
  },
  {
   "cell_type": "markdown",
   "metadata": {},
   "source": [
    "Find the critical current by optimizing the current-phase relation."
   ]
  },
  {
   "cell_type": "code",
   "execution_count": 19,
   "metadata": {},
   "outputs": [],
   "source": [
    "def I_c(syst, hopping, params, tol=1e-2, max_frequencies=500, N_brute=30):\n",
    "    \"\"\"Find the critical current by optimizing the current-phase\n",
    "    relation.\n",
    "\n",
    "    Parameters\n",
    "    ----------\n",
    "    syst : kwant.builder.FiniteSystem\n",
    "        The finalized kwant system.\n",
    "    hopping : function\n",
    "        Function that returns the hopping matrix between the two cross\n",
    "        sections of where the SelfEnergyLead is attached.\n",
    "    params : dict\n",
    "        A container that is used to store Hamiltonian parameters.\n",
    "    tol : float, optional\n",
    "        Tolerance of the `current_at_phase` function.\n",
    "    max_frequencies : int, optional\n",
    "        Maximum number of Matsubara frequencies.\n",
    "    N_brute : int, optional\n",
    "        Number of points at which the CPR is evaluated in the brute\n",
    "        force part of the algorithm.\n",
    "\n",
    "    Returns\n",
    "    -------\n",
    "    dict\n",
    "        Dictionary with the critical phase, critical current, and `currents`\n",
    "        evaluated at `phases`.\"\"\"\n",
    "    H_0_cache = []\n",
    "    func = lambda phase: -current_at_phase(syst, hopping, params, H_0_cache,\n",
    "                                           phase, tol, max_frequencies)\n",
    "    opt = scipy.optimize.brute(\n",
    "        func, ranges=((-np.pi, np.pi),), Ns=N_brute, full_output=True)\n",
    "    x0, fval, grid, Jout = opt\n",
    "    return dict(phase_c=x0[0], current_c=-fval, phases=grid,\n",
    "                currents=-Jout, N_freqs=len(H_0_cache))"
   ]
  },
  {
   "cell_type": "markdown",
   "metadata": {},
   "source": [
    "Discretize the the BdG Hamiltonian and returns a kwant.Builder template."
   ]
  },
  {
   "cell_type": "code",
   "execution_count": 20,
   "metadata": {},
   "outputs": [],
   "source": [
    "@lru_cache(maxsize=None)\n",
    "def discretized_hamiltonian(a, holes=True, dim=3):\n",
    "    \"\"\"Discretize the the BdG Hamiltonian and returns\n",
    "    A kwant.Builder template.\n",
    "\n",
    "    Parameters\n",
    "    ----------\n",
    "    a : int\n",
    "        Lattice constant in nm.\n",
    "    holes : bool, optional\n",
    "        Add particle-hole operators in the Hamiltonian.\n",
    "    dim : int, optional\n",
    "        Spatial dimension of the system.\n",
    "\n",
    "    Returns\n",
    "    -------\n",
    "    templ_normal, templ_sc, templ_interface : kwant.Builder ojects\n",
    "        Discretized Hamilonian functions of the semiconducting part,\n",
    "        superconducting part, and for the interface, respectively.\n",
    "\n",
    "    Notes\n",
    "    -----\n",
    "    The variable `c` should be (1e18 / constants.meV) if the units need to be\n",
    "    in nm and meV and c_tunnel is a constant between 0 and 1 to reduce the\n",
    "    hopping between the interface of the SM and SC.\n",
    "    \"\"\"\n",
    "    if holes:\n",
    "        ham = (\"(0.5 * hbar**2 * (k_x**2 + k_y**2 + k_z**2) / m_eff * c - mu + V(x)) * kron(sigma_0, sigma_z) + \"\n",
    "               \"alpha * (k_y * kron(sigma_x, sigma_z) - k_x * kron(sigma_y, sigma_z)) + \"\n",
    "               \"0.5 * g * mu_B * (B_x * kron(sigma_x, sigma_0) + B_y * kron(sigma_y, sigma_0) + \"\n",
    "               \"B_z * kron(sigma_z, sigma_0)) + Delta * kron(sigma_0, sigma_x)\")\n",
    "    else:\n",
    "        ham = (\"(0.5 * hbar**2 * (k_x**2 + k_y**2 + k_z**2) / m_eff * c - mu + V(x)) * sigma_0 + \"\n",
    "               \"alpha * (k_y * sigma_x - k_x * sigma_y) + \"\n",
    "               \"0.5 * g * mu_B * (B_x * sigma_x + B_y * sigma_y + B_z * sigma_z) +\"\n",
    "               \"Delta * sigma_0\")\n",
    "\n",
    "    subs = {}\n",
    "    if dim == 1:\n",
    "        subs['k_y'] = subs['k_z'] = 0\n",
    "    elif dim == 2:\n",
    "        subs['k_z'] = 0\n",
    "\n",
    "    subst_sm = {'Delta': 0, **subs}\n",
    "    subst_sc = {'g': 0, 'alpha': 0, **subs}\n",
    "    subst_interface = {'c': 'c * c_tunnel', 'alpha': 0, **subs}\n",
    "\n",
    "    templ_sm = discretize(ham, locals=subst_sm, grid_spacing=a)\n",
    "    templ_sc = discretize(ham, locals=subst_sc, grid_spacing=a)\n",
    "    templ_interface = discretize(ham, locals=subst_interface, grid_spacing=a)\n",
    "\n",
    "    return templ_sm, templ_sc, templ_interface"
   ]
  },
  {
   "cell_type": "markdown",
   "metadata": {},
   "source": [
    "obtain disorder, if disorder variable is not none, add such disorder from particle-hole"
   ]
  },
  {
   "cell_type": "code",
   "execution_count": 21,
   "metadata": {},
   "outputs": [],
   "source": [
    "def add_disorder_to_template(template, disorder_variable=None):\n",
    "    # Only works with particle-hole + spin DOF or only spin.\n",
    "    template = deepcopy(template)  # Needed because kwant.Builder is mutable\n",
    "    s0 = np.eye(2, dtype=complex)\n",
    "    sz = np.array([[1, 0], [0, -1]], dtype=complex)\n",
    "    s0sz = np.kron(s0, sz)\n",
    "    norbs = template.lattice.norbs\n",
    "    mat = s0sz if norbs == 4 else s0\n",
    "\n",
    "    def onsite_disorder(site, disorder, salt):\n",
    "        return disorder * (uniform(repr(site), repr(salt)) - .5) * mat\n",
    "\n",
    "    if disorder_variable is not None:\n",
    "        onsite_disorder= change_var_name(onsite_disorder, 'disorder',\n",
    "                                         disorder_variable)\n",
    "\n",
    "    for site, onsite in template.site_value_pairs():\n",
    "        onsite = template[site]\n",
    "        template[site] = combine(onsite, onsite_disorder, operator.add, 1)\n",
    "\n",
    "    return template"
   ]
  },
  {
   "cell_type": "markdown",
   "metadata": {},
   "source": [
    "Apply peierls stress into calculation while considering orbital effect"
   ]
  },
  {
   "cell_type": "code",
   "execution_count": 22,
   "metadata": {},
   "outputs": [],
   "source": [
    "def apply_peierls_to_template(template, xyz_offset=(0, 0, 0)):\n",
    "    \"\"\"Adds p.orbital argument to the hopping functions.\"\"\"\n",
    "    template = deepcopy(template)  # Needed because kwant.Builder is mutable\n",
    "    x0, y0, z0 = xyz_offset\n",
    "    lat = template.lattice\n",
    "    a = np.max(lat.prim_vecs)  # lattice contant\n",
    "\n",
    "    def phase(site1, site2, B_x, B_y, B_z, orbital, e, hbar):\n",
    "        x, y, z = site1.tag\n",
    "        direction = site2.tag - site1.tag\n",
    "        A = [B_y * (z - z0) - B_z * (y - y0), 0, B_x * (y - y0)]\n",
    "        A = np.dot(A, direction) * a**2 * 1e-18 * e / hbar\n",
    "        phase = np.exp(-1j * A)\n",
    "        if orbital:\n",
    "            if lat.norbs == 2:  # No PH degrees of freedom\n",
    "                return phase\n",
    "            elif lat.norbs == 4:\n",
    "                return np.array([phase, phase.conj(), phase, phase.conj()],\n",
    "                                dtype='complex128')\n",
    "        else:  # No orbital phase\n",
    "            return 1\n",
    "\n",
    "    for (site1, site2), hop in template.hopping_value_pairs():\n",
    "        template[site1, site2] = combine(hop, phase, operator.mul, 2)\n",
    "    return template"
   ]
  },
  {
   "cell_type": "markdown",
   "metadata": {},
   "source": [
    "set xyz offset value"
   ]
  },
  {
   "cell_type": "code",
   "execution_count": 23,
   "metadata": {},
   "outputs": [],
   "source": [
    "def get_offset(shape, start, lat):\n",
    "    a = np.max(lat.prim_vecs)\n",
    "    coords = [site.pos for site in lat.shape(shape, start)()]\n",
    "    xyz_offset = np.mean(coords, axis=0)\n",
    "    return xyz_offset"
   ]
  },
  {
   "cell_type": "markdown",
   "metadata": {},
   "source": [
    "going to interface and get the value"
   ]
  },
  {
   "cell_type": "code",
   "execution_count": 24,
   "metadata": {},
   "outputs": [],
   "source": [
    "def at_interface(site1, site2, shape1, shape2):\n",
    "    return ((shape1[0](site1) and shape2[0](site2)) or\n",
    "            (shape2[0](site1) and shape1[0](site2)))"
   ]
  },
  {
   "cell_type": "markdown",
   "metadata": {},
   "source": [
    "hopping at interface"
   ]
  },
  {
   "cell_type": "code",
   "execution_count": 25,
   "metadata": {},
   "outputs": [],
   "source": [
    "def change_hopping_at_interface(syst, template, shape1, shape2):\n",
    "    for (site1, site2), hop in syst.hopping_value_pairs():\n",
    "        if at_interface(site1, site2, shape1, shape2):\n",
    "            syst[site1, site2] = template[site1, site2]\n",
    "    return syst"
   ]
  },
  {
   "cell_type": "markdown",
   "metadata": {},
   "source": [
    "shape function for a cylindrical cross sction wire"
   ]
  },
  {
   "cell_type": "code",
   "execution_count": 26,
   "metadata": {},
   "outputs": [],
   "source": [
    "def cylinder_sector(r_out, r_in=0, L=1, L0=0, phi=360, angle=0, a=10):\n",
    "    \"\"\"Returns the shape function and start coords for a wire with\n",
    "    as cylindrical cross section.\n",
    "\n",
    "    Parameters\n",
    "    ----------\n",
    "    r_out : int\n",
    "        Outer radius in nm.\n",
    "    r_in : int, optional\n",
    "        Inner radius in nm.\n",
    "    L : int, optional\n",
    "        Length of wire from L0 in nm, -1 if infinite in x-direction.\n",
    "    L0 : int, optional\n",
    "        Start position in x.\n",
    "    phi : int, optional\n",
    "        Coverage angle in degrees.\n",
    "    angle : int, optional\n",
    "        Angle of tilting from top in degrees.\n",
    "    a : int, optional\n",
    "        Discretization constant in nm.\n",
    "\n",
    "    Returns\n",
    "    -------\n",
    "    (shape_func, *(start_coords))\n",
    "    \"\"\"\n",
    "    phi *= np.pi / 360\n",
    "    angle *= np.pi / 180\n",
    "    r1sq, r2sq = r_in**2, r_out**2\n",
    "\n",
    "    def sector(site):\n",
    "        try:\n",
    "            x, y, z = site.pos\n",
    "        except AttributeError:\n",
    "            x, y, z = site\n",
    "        n = (y + 1j * z) * np.exp(1j * angle)\n",
    "        y, z = n.real, n.imag\n",
    "        rsq = y**2 + z**2\n",
    "\n",
    "        shape_yz = r1sq <= rsq < r2sq and z >= np.cos(phi) * np.sqrt(rsq)\n",
    "        return (shape_yz and L0 <= x < L) if L > 0 else shape_yz\n",
    "\n",
    "    r_mid = (r_out + r_in) / 2\n",
    "    start_coords = np.array([L - a,\n",
    "                             r_mid * np.sin(angle),\n",
    "                             r_mid * np.cos(angle)])\n",
    "\n",
    "    return sector, start_coords"
   ]
  },
  {
   "cell_type": "markdown",
   "metadata": {},
   "source": [
    "square cross section wire"
   ]
  },
  {
   "cell_type": "code",
   "execution_count": 27,
   "metadata": {},
   "outputs": [],
   "source": [
    "def square_sector(r_out, r_in=0, L=1, L0=0, phi=360, angle=0, a=10):\n",
    "    \"\"\"Returns the shape function and start coords of a wire\n",
    "    with a square cross section.\n",
    "\n",
    "    Parameters\n",
    "    ----------\n",
    "    r_out : int\n",
    "        Outer radius in nm.\n",
    "    r_in : int\n",
    "        Inner radius in nm.\n",
    "    L : int\n",
    "        Length of wire from L0 in nm, -1 if infinite in x-direction.\n",
    "    L0 : int\n",
    "        Start position in x.\n",
    "    phi : ignored\n",
    "        Ignored variable, to have same arguments as cylinder_sector.\n",
    "    angle : ignored\n",
    "        Ignored variable, to have same arguments as cylinder_sector.\n",
    "    a : int\n",
    "        Discretization constant in nm.\n",
    "\n",
    "    Returns\n",
    "    -------\n",
    "    (shape_func, *(start_coords))\n",
    "    \"\"\"\n",
    "    if r_in > 0:\n",
    "        def sector(site):\n",
    "            try:\n",
    "                x, y, z = site.pos\n",
    "            except AttributeError:\n",
    "                x, y, z = site\n",
    "            shape_yz = -r_in <= y < r_in and r_in <= z < r_out\n",
    "            return (shape_yz and L0 <= x < L) if L > 0 else shape_yz\n",
    "        return sector, (L - a, 0, r_in + a)\n",
    "    else:\n",
    "        def sector(site):\n",
    "            try:\n",
    "                x, y, z = site.pos\n",
    "            except AttributeError:\n",
    "                x, y, z = site\n",
    "            shape_yz = -r_out <= y < r_out and -r_out <= z < r_out\n",
    "            return (shape_yz and L0 <= x < L) if L > 0 else shape_yz\n",
    "        return sector, (L - a, 0, 0)"
   ]
  },
  {
   "cell_type": "markdown",
   "metadata": {},
   "source": [
    "Create a 1D semiconducting wire of length `L` with superconductors of length `L_sc` on its ends."
   ]
  },
  {
   "cell_type": "code",
   "execution_count": 53,
   "metadata": {},
   "outputs": [],
   "source": [
    "@lru_cache(maxsize=None)\n",
    "def make_1d_wire(a=10, L=400, L_sc=400, with_leads=True):\n",
    "    \"\"\"Create a 1D semiconducting wire of length `L` with superconductors\n",
    "    of length `L_sc` on its ends.\n",
    "\n",
    "    Parameters\n",
    "    ----------\n",
    "    a : int\n",
    "        Discretization constant in nm.\n",
    "    L : int\n",
    "        Length of wire (the scattering semi-conducting part) in nm.\n",
    "    L_sc : int\n",
    "        Length of superconducting ends in nm.\n",
    "    with_leads : bool\n",
    "        Add infinite SC leads to the ends of the nanowire.\n",
    "\n",
    "    Returns\n",
    "    -------\n",
    "    syst : kwant.builder.FiniteSystem\n",
    "        The finilized kwant system.\n",
    "    hopping : function\n",
    "        Function that returns the hopping matrix between the two cross sections\n",
    "        of where the SelfEnergyLead is attached.\n",
    "    \"\"\"    \n",
    "    ham = (\"(0.5 * hbar**2 * k_x**2 / m_eff * c - mu) * kron(sigma_0, sigma_z) -\"\n",
    "          \"alpha * k_x * kron(sigma_y, sigma_z) + \"\n",
    "          \"0.5 * g * mu_B * B_x * kron(sigma_x, sigma_0) + Delta * kron(sigma_0, sigma_x)\")\n",
    "\n",
    "    templ_normal = discretize(ham, locals={'Delta': 0}, grid_spacing=a)\n",
    "    templ_sc = discretize(ham, grid_spacing=a)\n",
    "\n",
    "    lat = templ_normal.lattice\n",
    "    syst = kwant.Builder()\n",
    "\n",
    "    def shape(x_left, x_right):\n",
    "        return lambda s: x_left <= s.pos[0] < x_right, (x_left,)\n",
    "\n",
    "    syst.fill(templ_sc, *shape(-L_sc, 0))\n",
    "    syst.fill(templ_normal, *shape(0, L))\n",
    "    syst.fill(templ_sc, *shape(L, L+L_sc))\n",
    "\n",
    "    cuts = get_cuts(syst, lat, L//(2*a), (L//(2*a)+1))\n",
    "    syst = add_vlead(syst, lat, *cuts)\n",
    "\n",
    "    lead = kwant.Builder(kwant.TranslationalSymmetry([a]))\n",
    "    lead.fill(templ_sc, lambda x: True, (0,))\n",
    "\n",
    "    if with_leads:\n",
    "        syst.attach_lead(lead)\n",
    "        syst.attach_lead(lead.reversed())\n",
    "\n",
    "    syst = syst.finalized()\n",
    "\n",
    "    hopping = hopping_between_cuts(syst, *cuts)\n",
    "    return syst, hopping"
   ]
  },
  {
   "cell_type": "markdown",
   "metadata": {},
   "source": [
    "test system in 2d"
   ]
  },
  {
   "cell_type": "code",
   "execution_count": 35,
   "metadata": {},
   "outputs": [],
   "source": [
    "@lru_cache(maxsize=None)\n",
    "def make_2d_test_system(X=2, Y=2, a=1):\n",
    "    ham = \"(hbar^2 * (k_x^2 + k_y^2) / (2 * m) * c - mu) * sigma_z + Delta * sigma_x\"\n",
    "    template_lead = discretize(ham, grid_spacing=a)\n",
    "    template = discretize(ham, locals={'Delta': 0}, grid_spacing=a)\n",
    "    syst = kwant.Builder()\n",
    "    syst.fill(template, lambda s: 0 <= s.pos[0] < X and 0 <= s.pos[1] < Y, (0, 0))\n",
    "    lat = template.lattice\n",
    "\n",
    "    # Add 0 self energy lead\n",
    "    cuts = get_cuts(syst, lat)\n",
    "    syst = add_vlead(syst, lat, *cuts)\n",
    "\n",
    "    # Leads\n",
    "    lead = kwant.Builder(kwant.TranslationalSymmetry((a, 0)))\n",
    "    lead.fill(template_lead, lambda s: 0 <= s.pos[1] < Y, (0, 0))\n",
    "    syst.attach_lead(lead)\n",
    "    syst.attach_lead(lead.reversed())\n",
    "    syst = syst.finalized()\n",
    "\n",
    "    hopping = hopping_between_cuts(syst, *cuts)\n",
    "    return syst, hopping"
   ]
  },
  {
   "cell_type": "markdown",
   "metadata": {},
   "source": [
    "test system in 3d"
   ]
  },
  {
   "cell_type": "code",
   "execution_count": 36,
   "metadata": {},
   "outputs": [],
   "source": [
    "@lru_cache(maxsize=None)\n",
    "def make_3d_test_system(X, Y, Z, a=10, test_hamiltonian=True):\n",
    "    if test_hamiltonian:\n",
    "        ham = '(t * (k_x**2 + k_y**2 + k_z**2) - mu) * sigma_z + Delta * sigma_x'\n",
    "        templ_normal = discretize(ham, locals={'Delta': 0})\n",
    "        templ_sc = discretize(ham)\n",
    "    else:\n",
    "        templ_normal, templ_sc, *_ = discretized_hamiltonian(a)\n",
    "\n",
    "    lat = templ_normal.lattice\n",
    "    syst = kwant.Builder()\n",
    "    syst.fill(templ_normal, lambda s: (0 <= s.pos[0] < X and 0 <= s.pos[1] < Y and\n",
    "                                       0 <= s.pos[2] < Z), (0, 0, 0))\n",
    "\n",
    "    cuts = get_cuts(syst, lat)\n",
    "    syst = add_vlead(syst, lat, *cuts)\n",
    "\n",
    "    lead = kwant.Builder(kwant.TranslationalSymmetry((a, 0, 0)))\n",
    "    lead.fill(templ_sc, lambda s: 0 <= s.pos[1] < Y and 0 <= s.pos[2] < Z, (0, 0, 0))\n",
    "\n",
    "    syst.attach_lead(lead)\n",
    "    syst.attach_lead(lead.reversed())\n",
    "\n",
    "    syst = syst.finalized()\n",
    "    hopping = hopping_between_cuts(syst, *cuts)\n",
    "\n",
    "    return syst, hopping"
   ]
  },
  {
   "cell_type": "markdown",
   "metadata": {},
   "source": [
    "##### construct 3d nanowires\n",
    "Create a cylindrical 3D wire partially covered with a superconducting (SC) shell, but without superconductor in the scattering region of length L"
   ]
  },
  {
   "cell_type": "code",
   "execution_count": 37,
   "metadata": {},
   "outputs": [],
   "source": [
    "@lru_cache(maxsize=None)\n",
    "def make_3d_wire(a, L, r1, r2, phi, angle, L_sc, site_disorder, with_vlead,\n",
    "                 with_leads, with_shell, shape, holes):\n",
    "    \"\"\"Create a cylindrical 3D wire partially covered with a\n",
    "    superconducting (SC) shell, but without superconductor in the\n",
    "    scattering region of length L.\n",
    "\n",
    "    Parameters\n",
    "    ----------\n",
    "    a : int\n",
    "        Discretization constant in nm.\n",
    "    L : int\n",
    "        Length of wire (the scattering part without SC shell.) Should be bigger\n",
    "        than 4 unit cells (4*a) to have the vleads in a region without a SC shell.\n",
    "    r1 : int\n",
    "        Radius of normal part of wire in nm.\n",
    "    r2 : int\n",
    "        Radius of superconductor in nm.\n",
    "    phi : int\n",
    "        Coverage angle of superconductor in degrees.\n",
    "    angle : int\n",
    "        Angle of tilting of superconductor from top in degrees.\n",
    "    L_sc : int\n",
    "        Number of unit cells that has a superconducting shell. If the system\n",
    "        has infinite leads, set L_sc=a.\n",
    "    site_disorder : bool\n",
    "        When True, syst requires `disorder` and `salt` aguments.\n",
    "    with_vlead : bool\n",
    "        If True a SelfEnergyLead with zero energy is added to a slice of the system.\n",
    "    with_leads : bool\n",
    "        If True it appends infinite leads with superconducting shell.\n",
    "    with_shell : bool\n",
    "        Adds shell to the correct areas. If False no SC shell is added and\n",
    "        only a cylindrical wire will be created.\n",
    "    shape : str\n",
    "        Either `circle` or `square` shaped cross section.\n",
    "    holes : bool\n",
    "        Add particle-hole operators in the Hamiltonian. Turn off when calculating\n",
    "        the mean-free path.\n",
    "\n",
    "    Returns\n",
    "    -------\n",
    "    syst : kwant.builder.FiniteSystem\n",
    "        The finilized kwant system.\n",
    "    hopping : function\n",
    "        Function that returns the hopping matrix between the two cross sections\n",
    "        of where the SelfEnergyLead is attached.\n",
    "\n",
    "    Examples\n",
    "    --------\n",
    "    This doesn't use default parameters because the variables need to be saved,\n",
    "    to a file. So I create a dictionary that is passed to the function.\n",
    "\n",
    "    >>> syst_params = dict(A_in_SC=True, a=10, angle=0, site_disorder=False,\n",
    "    ...                    L=30, L_sc=10, phi=185, r1=50, r2=70,\n",
    "    ...                    shape='square', with_leads=True,\n",
    "    ...                    with_shell=True, with_vlead=True, holes=True)\n",
    "    >>> syst, hopping = make_3d_wire(**syst_params)\n",
    "\n",
    "    \"\"\"\n",
    "    assert L_sc % a == 0\n",
    "    assert L % a == 0\n",
    "\n",
    "    # The parts with a SC shell are not counted in the length L, so it's\n",
    "    # modified as:\n",
    "    L += 2*L_sc\n",
    "\n",
    "    if shape == 'square':\n",
    "        shape_function = square_sector\n",
    "    elif shape == 'circle':\n",
    "        shape_function = cylinder_sector\n",
    "    else:\n",
    "        raise NotImplementedError('Only square or circle wire cross section allowed')\n",
    "\n",
    "    # Wire scattering region shapes\n",
    "    shape_normal = shape_function(r_out=r1, angle=angle, L=L, a=a)\n",
    "    # Superconductor slice in the beginning of the scattering region of L_sc\n",
    "    # unit cells\n",
    "    shape_sc_start = shape_function(\n",
    "        r_out=r2, r_in=r1, phi=phi, angle=angle, L=L_sc, a=a)\n",
    "    # Superconductor slice in the end of the scattering region of L_sc unit\n",
    "    # cells\n",
    "    shape_sc_end = shape_function(\n",
    "        r_out=r2, r_in=r1, phi=phi, angle=angle, L0=L-L_sc, L=L, a=a)\n",
    "\n",
    "    # Lead shapes\n",
    "    shape_sc_lead = shape_function(\n",
    "        r_out=r2, r_in=r1, phi=phi, angle=angle, L=-1, a=a)\n",
    "    shape_normal_lead = shape_function(r_out=r1, angle=angle, L=-1, a=a)\n",
    "\n",
    "    # Create the system and the lead Builders\n",
    "    syst = kwant.Builder()\n",
    "    lead = kwant.Builder(kwant.TranslationalSymmetry((-a, 0, 0)))\n",
    "\n",
    "    # Create the templates with Hamiltonian and apply the Peierls subst. to it.\n",
    "    templ_normal, templ_sc, templ_interface = discretized_hamiltonian(a, holes=holes)\n",
    "    templ_normal = apply_peierls_to_template(templ_normal)\n",
    "    templ_interface = apply_peierls_to_template(templ_interface)\n",
    "    xyz_offset = get_offset(*shape_sc_start, templ_sc.lattice)\n",
    "    templ_sc = apply_peierls_to_template(templ_sc, xyz_offset)\n",
    "\n",
    "    # Fill the normal part in the scattering region\n",
    "    if site_disorder:\n",
    "        syst.fill(add_disorder_to_template(templ_normal), *shape_normal)\n",
    "    else:\n",
    "        syst.fill(templ_normal, *shape_normal)\n",
    "\n",
    "    # Fill in the infinite lead\n",
    "    lead.fill(templ_normal, *shape_normal_lead)\n",
    "\n",
    "    if with_shell:\n",
    "        # Add the SC shell to the beginning and end slice of the scattering\n",
    "        # region and to the lead.\n",
    "        syst.fill(templ_sc, *shape_sc_start)\n",
    "        syst.fill(templ_sc, *shape_sc_end)\n",
    "        lead.fill(templ_sc, *shape_sc_lead)\n",
    "\n",
    "    # Define left and right cut in wire in the middle of the wire, a region\n",
    "    # without superconducting shell.\n",
    "    lat = templ_normal.lattice\n",
    "    cuts = get_cuts(syst, lat, L // (2*a) - 1, L // (2*a))\n",
    "    # Sort the sites in the `cuts` list.\n",
    "    cuts = [sorted(cut, key=lambda s: s.pos[1] + s.pos[2]*1e6) for cut in cuts]\n",
    "\n",
    "    if with_vlead:\n",
    "        syst = add_vlead(syst, lat, *cuts)\n",
    "\n",
    "    if with_shell:\n",
    "        # Adding a tunnel barrier between SM and SC\n",
    "        syst = change_hopping_at_interface(syst, templ_interface,\n",
    "                                           shape_normal, shape_sc_start)\n",
    "        syst = change_hopping_at_interface(syst, templ_interface,\n",
    "                                           shape_normal, shape_sc_end)\n",
    "        lead = change_hopping_at_interface(lead, templ_interface,\n",
    "                                           shape_normal_lead, shape_sc_lead)\n",
    "\n",
    "    if with_leads:\n",
    "        syst.attach_lead(lead)\n",
    "        syst.attach_lead(lead.reversed())\n",
    "\n",
    "    syst = syst.finalized()\n",
    "    hopping = hopping_between_cuts(syst, *cuts)\n",
    "    return syst, hopping"
   ]
  },
  {
   "cell_type": "code",
   "execution_count": null,
   "metadata": {},
   "outputs": [],
   "source": []
  },
  {
   "cell_type": "code",
   "execution_count": null,
   "metadata": {},
   "outputs": [],
   "source": []
  },
  {
   "cell_type": "code",
   "execution_count": null,
   "metadata": {},
   "outputs": [],
   "source": []
  },
  {
   "cell_type": "code",
   "execution_count": null,
   "metadata": {},
   "outputs": [],
   "source": []
  }
 ],
 "metadata": {
  "kernelspec": {
   "display_name": "Python 3",
   "language": "python",
   "name": "python3"
  },
  "language_info": {
   "codemirror_mode": {
    "name": "ipython",
    "version": 3
   },
   "file_extension": ".py",
   "mimetype": "text/x-python",
   "name": "python",
   "nbconvert_exporter": "python",
   "pygments_lexer": "ipython3",
   "version": "3.6.10"
  }
 },
 "nbformat": 4,
 "nbformat_minor": 4
}

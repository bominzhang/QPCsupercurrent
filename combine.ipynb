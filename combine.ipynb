{
 "cells": [
  {
   "cell_type": "markdown",
   "metadata": {},
   "source": [
    "###### Defines a function `combine` that can create a new function by combining two functions. For example `combine(f, g, operator.mul)` creates a function that multiplies `f` with `g`."
   ]
  },
  {
   "cell_type": "code",
   "execution_count": 62,
   "metadata": {},
   "outputs": [],
   "source": [
    "import inspect\n",
    "from collections import OrderedDict"
   ]
  },
  {
   "cell_type": "code",
   "execution_count": 63,
   "metadata": {},
   "outputs": [],
   "source": [
    "def get_names(sig):\n",
    "    names = [(name, value) for name, value in sig.parameters.items() if\n",
    "             value.kind in (inspect.Parameter.POSITIONAL_OR_KEYWORD,\n",
    "                            inspect.Parameter.KEYWORD_ONLY)]\n",
    "    return OrderedDict(names)"
   ]
  },
  {
   "cell_type": "code",
   "execution_count": 64,
   "metadata": {},
   "outputs": [],
   "source": [
    "def filter_kwargs(sig, names, kwargs):\n",
    "    names_in_kwargs = [(name, value) for name, value in kwargs.items()\n",
    "                       if name in names]\n",
    "    return OrderedDict(names_in_kwargs)"
   ]
  },
  {
   "cell_type": "code",
   "execution_count": 65,
   "metadata": {},
   "outputs": [],
   "source": [
    "def skip_pars(names1, names2, num_skipped):\n",
    "    skipped_pars1 = list(names1.keys())[:num_skipped]\n",
    "    skipped_pars2 = list(names2.keys())[:num_skipped]\n",
    "    if skipped_pars1 == skipped_pars2:\n",
    "        pars1 = list(names1.values())[num_skipped:]\n",
    "        pars2 = list(names2.values())[num_skipped:]\n",
    "    else:\n",
    "        raise Exception('First {} arguments '\n",
    "                        'have to be the same'.format(num_skipped))\n",
    "    return pars1, pars2"
   ]
  },
  {
   "cell_type": "code",
   "execution_count": 66,
   "metadata": {},
   "outputs": [],
   "source": [
    "def combine(f, g, operator, num_skipped=0):\n",
    "    if not callable(f) or not callable(g):\n",
    "        raise Exception('One of the functions is not a function')\n",
    "\n",
    "    sig1 = inspect.signature(f)\n",
    "    sig2 = inspect.signature(g)\n",
    "\n",
    "    names1 = get_names(sig1)\n",
    "    names2 = get_names(sig2)\n",
    "\n",
    "    pars1, pars2 = skip_pars(names1, names2, num_skipped)\n",
    "    skipped_pars = list(names1.values())[:num_skipped]\n",
    "\n",
    "    def wrapped(*args, **kwargs):\n",
    "        kwargs1 = filter_kwargs(sig1, names1.keys(), kwargs)\n",
    "        kwargs2 = filter_kwargs(sig2, names2.keys(), kwargs)\n",
    "\n",
    "        fval = f(*args, **kwargs1)\n",
    "        gval = g(*args, **kwargs2)\n",
    "        return operator(fval, gval)\n",
    "\n",
    "    pars1_names = [p.name for p in pars1]\n",
    "    pars2 = [p for p in pars2 if p.name not in pars1_names]\n",
    "    parameters = pars1 + pars2\n",
    "    parameters = [p.replace(kind=inspect.Parameter.KEYWORD_ONLY,\n",
    "                            default=p.default) for p in parameters]\n",
    "    wrapped.__signature__ = inspect.Signature(parameters=skipped_pars + parameters)\n",
    "    return wrapped"
   ]
  },
  {
   "cell_type": "code",
   "execution_count": null,
   "metadata": {},
   "outputs": [],
   "source": []
  },
  {
   "cell_type": "code",
   "execution_count": null,
   "metadata": {},
   "outputs": [],
   "source": []
  },
  {
   "cell_type": "code",
   "execution_count": null,
   "metadata": {},
   "outputs": [],
   "source": []
  },
  {
   "cell_type": "code",
   "execution_count": null,
   "metadata": {},
   "outputs": [],
   "source": []
  },
  {
   "cell_type": "code",
   "execution_count": null,
   "metadata": {},
   "outputs": [],
   "source": []
  },
  {
   "cell_type": "code",
   "execution_count": null,
   "metadata": {},
   "outputs": [],
   "source": []
  },
  {
   "cell_type": "code",
   "execution_count": null,
   "metadata": {},
   "outputs": [],
   "source": []
  },
  {
   "cell_type": "code",
   "execution_count": null,
   "metadata": {},
   "outputs": [],
   "source": []
  }
 ],
 "metadata": {
  "kernelspec": {
   "display_name": "Python 3",
   "language": "python",
   "name": "python3"
  },
  "language_info": {
   "codemirror_mode": {
    "name": "ipython",
    "version": 3
   },
   "file_extension": ".py",
   "mimetype": "text/x-python",
   "name": "python",
   "nbconvert_exporter": "python",
   "pygments_lexer": "ipython3",
   "version": "3.7.6"
  }
 },
 "nbformat": 4,
 "nbformat_minor": 4
}
